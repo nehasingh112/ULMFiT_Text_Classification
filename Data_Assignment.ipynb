{
  "nbformat": 4,
  "nbformat_minor": 0,
  "metadata": {
    "colab": {
      "name": "Data_Assignment.ipynb",
      "provenance": [],
      "collapsed_sections": [],
      "authorship_tag": "ABX9TyM9vDbYH2ggTvW8qHQZjoGe",
      "include_colab_link": true
    },
    "kernelspec": {
      "name": "python3",
      "display_name": "Python 3"
    },
    "language_info": {
      "name": "python"
    }
  },
  "cells": [
    {
      "cell_type": "markdown",
      "metadata": {
        "id": "view-in-github",
        "colab_type": "text"
      },
      "source": [
        "<a href=\"https://colab.research.google.com/github/nehasingh112/ULMFiT_Text_Classification/blob/master/Data_Assignment.ipynb\" target=\"_parent\"><img src=\"https://colab.research.google.com/assets/colab-badge.svg\" alt=\"Open In Colab\"/></a>"
      ]
    },
    {
      "cell_type": "code",
      "metadata": {
        "id": "hUR4R9A6kXfW"
      },
      "source": [
        "#!pip install boto3 pandas\n",
        "#import boto3\n",
        "import pandas as pd\n",
        "import numpy as np\n",
        "import io\n",
        "from smart_open import smart_open\n",
        "import datetime\n",
        "from dateutil.relativedelta import relativedelta\n",
        "from datetime import date\n",
        "\n"
      ],
      "execution_count": null,
      "outputs": []
    },
    {
      "cell_type": "markdown",
      "metadata": {
        "id": "asZb7VHTiWf4"
      },
      "source": [
        "# Loading the Data"
      ]
    },
    {
      "cell_type": "markdown",
      "metadata": {
        "id": "C9lp_Z7Gm0fX"
      },
      "source": [
        "I initially tried loading file from local directory but the data seem incompatible with the process (encoding, EOF, style etc.) and after ingoring everything I was missing huge number of values so now I am using smart_open python 3 library for efficient streaming of very large files which supports on-the-fly (de-)compression for varietu of different formats. smart_open supports a wide range of transport options out of the box, including:S3, HTTP, HTTPS (read-only), SSH, SCP and SFTP, WebHDFS, GCS, Azure Blob Storage so it fits the style.\n"
      ]
    },
    {
      "cell_type": "code",
      "metadata": {
        "colab": {
          "base_uri": "https://localhost:8080/",
          "height": 442
        },
        "id": "iSnjgccsk7a5",
        "outputId": "3af2d5bb-10a9-46ba-8fa9-840791be6dd9"
      },
      "source": [
        "positions_descriptions_df = pd.read_csv(smart_open(\"https://info0.s3.us-east-2.amazonaws.com/recruitment/positions_descriptions.csv\"))\n",
        "print(positions_descriptions_df.info())\n",
        "positions_descriptions_df.head()"
      ],
      "execution_count": null,
      "outputs": [
        {
          "output_type": "stream",
          "text": [
            "<class 'pandas.core.frame.DataFrame'>\n",
            "RangeIndex: 377746 entries, 0 to 377745\n",
            "Data columns (total 6 columns):\n",
            " #   Column       Non-Null Count   Dtype \n",
            "---  ------       --------------   ----- \n",
            " 0   Unnamed: 0   377746 non-null  int64 \n",
            " 1   user_id      377746 non-null  object\n",
            " 2   jobtitle     376297 non-null  object\n",
            " 3   startdate    368687 non-null  object\n",
            " 4   enddate      270515 non-null  object\n",
            " 5   description  22247 non-null   object\n",
            "dtypes: int64(1), object(5)\n",
            "memory usage: 17.3+ MB\n",
            "None\n"
          ],
          "name": "stdout"
        },
        {
          "output_type": "execute_result",
          "data": {
            "text/html": [
              "<div>\n",
              "<style scoped>\n",
              "    .dataframe tbody tr th:only-of-type {\n",
              "        vertical-align: middle;\n",
              "    }\n",
              "\n",
              "    .dataframe tbody tr th {\n",
              "        vertical-align: top;\n",
              "    }\n",
              "\n",
              "    .dataframe thead th {\n",
              "        text-align: right;\n",
              "    }\n",
              "</style>\n",
              "<table border=\"1\" class=\"dataframe\">\n",
              "  <thead>\n",
              "    <tr style=\"text-align: right;\">\n",
              "      <th></th>\n",
              "      <th>Unnamed: 0</th>\n",
              "      <th>user_id</th>\n",
              "      <th>jobtitle</th>\n",
              "      <th>startdate</th>\n",
              "      <th>enddate</th>\n",
              "      <th>description</th>\n",
              "    </tr>\n",
              "  </thead>\n",
              "  <tbody>\n",
              "    <tr>\n",
              "      <th>0</th>\n",
              "      <td>0</td>\n",
              "      <td>xPnF8aBtmVHMUJgXu4FhFQ4ZM3TcQvn1bQ/jHgHWG0kf/b...</td>\n",
              "      <td>manager_|_retail</td>\n",
              "      <td>1993-01-01</td>\n",
              "      <td>1999-01-01</td>\n",
              "      <td>Customer Service|Sales Manager with expertise ...</td>\n",
              "    </tr>\n",
              "    <tr>\n",
              "      <th>1</th>\n",
              "      <td>1</td>\n",
              "      <td>cSSpv5DU46Epq7jLKmHDYQ5+2cvffV/mNepQVJd0smgtpB...</td>\n",
              "      <td>consultant</td>\n",
              "      <td>2017-09-01</td>\n",
              "      <td>2017-12-01</td>\n",
              "      <td>• Analyzed current marketing strategy for loca...</td>\n",
              "    </tr>\n",
              "    <tr>\n",
              "      <th>2</th>\n",
              "      <td>2</td>\n",
              "      <td>kTlIZZU3vXt4Q90RzMQUAQ5+2cvffV/mNepQVJd0smgtpB...</td>\n",
              "      <td>gmac</td>\n",
              "      <td>1995-08-01</td>\n",
              "      <td>1996-06-01</td>\n",
              "      <td>Gestión de Cartera entre 30 60 y 90 días de mora</td>\n",
              "    </tr>\n",
              "    <tr>\n",
              "      <th>3</th>\n",
              "      <td>3</td>\n",
              "      <td>qHioGzN4ZvCgR+5MtGt7mw5+2cvffV/mNepQVJd0smgtpB...</td>\n",
              "      <td>research_collaborator_|_civil_engineering</td>\n",
              "      <td>2007-10-01</td>\n",
              "      <td>2008-01-01</td>\n",
              "      <td>Developer of real time operating systems as di...</td>\n",
              "    </tr>\n",
              "    <tr>\n",
              "      <th>4</th>\n",
              "      <td>4</td>\n",
              "      <td>AXh20t4URiK2Xnt1sKGyjQ5+2cvffV/mNepQVJd0smgtpB...</td>\n",
              "      <td>account_manager</td>\n",
              "      <td>2013-08-01</td>\n",
              "      <td>2013-12-01</td>\n",
              "      <td>Account manager, events coordinator. Managemen...</td>\n",
              "    </tr>\n",
              "  </tbody>\n",
              "</table>\n",
              "</div>"
            ],
            "text/plain": [
              "   Unnamed: 0  ...                                        description\n",
              "0           0  ...  Customer Service|Sales Manager with expertise ...\n",
              "1           1  ...  • Analyzed current marketing strategy for loca...\n",
              "2           2  ...   Gestión de Cartera entre 30 60 y 90 días de mora\n",
              "3           3  ...  Developer of real time operating systems as di...\n",
              "4           4  ...  Account manager, events coordinator. Managemen...\n",
              "\n",
              "[5 rows x 6 columns]"
            ]
          },
          "metadata": {
            "tags": []
          },
          "execution_count": 3
        }
      ]
    },
    {
      "cell_type": "code",
      "metadata": {
        "colab": {
          "base_uri": "https://localhost:8080/",
          "height": 408
        },
        "id": "8qPQWU0TEl7D",
        "outputId": "88140dde-6f6f-4b3c-88c9-93ab50534443"
      },
      "source": [
        "education_df = pd.read_csv(smart_open(\"https://info0.s3.us-east-2.amazonaws.com/recruitment/education.csv\"))\n",
        "print(education_df.info())\n",
        "education_df.head()"
      ],
      "execution_count": null,
      "outputs": [
        {
          "output_type": "stream",
          "text": [
            "<class 'pandas.core.frame.DataFrame'>\n",
            "RangeIndex: 226184 entries, 0 to 226183\n",
            "Data columns (total 4 columns):\n",
            " #   Column     Non-Null Count   Dtype \n",
            "---  ------     --------------   ----- \n",
            " 0   user_id    226184 non-null  object\n",
            " 1   major      162346 non-null  object\n",
            " 2   startdate  197556 non-null  object\n",
            " 3   enddate    190658 non-null  object\n",
            "dtypes: object(4)\n",
            "memory usage: 6.9+ MB\n",
            "None\n"
          ],
          "name": "stdout"
        },
        {
          "output_type": "execute_result",
          "data": {
            "text/html": [
              "<div>\n",
              "<style scoped>\n",
              "    .dataframe tbody tr th:only-of-type {\n",
              "        vertical-align: middle;\n",
              "    }\n",
              "\n",
              "    .dataframe tbody tr th {\n",
              "        vertical-align: top;\n",
              "    }\n",
              "\n",
              "    .dataframe thead th {\n",
              "        text-align: right;\n",
              "    }\n",
              "</style>\n",
              "<table border=\"1\" class=\"dataframe\">\n",
              "  <thead>\n",
              "    <tr style=\"text-align: right;\">\n",
              "      <th></th>\n",
              "      <th>user_id</th>\n",
              "      <th>major</th>\n",
              "      <th>startdate</th>\n",
              "      <th>enddate</th>\n",
              "    </tr>\n",
              "  </thead>\n",
              "  <tbody>\n",
              "    <tr>\n",
              "      <th>0</th>\n",
              "      <td>hqSv727UD4f0Cr8QyA8+8g5+2cvffV/mNepQVJd0smgtpB...</td>\n",
              "      <td>Master of Viticulture</td>\n",
              "      <td>2006-01-01</td>\n",
              "      <td>2008-01-01</td>\n",
              "    </tr>\n",
              "    <tr>\n",
              "      <th>1</th>\n",
              "      <td>hqSv727UD4f0Cr8QyA8+8g5+2cvffV/mNepQVJd0smgtpB...</td>\n",
              "      <td>Bachelor of horticulture</td>\n",
              "      <td>2001-01-01</td>\n",
              "      <td>2005-01-01</td>\n",
              "    </tr>\n",
              "    <tr>\n",
              "      <th>2</th>\n",
              "      <td>hqSv727UD4f0Cr8QyA8+8g5+2cvffV/mNepQVJd0smgtpB...</td>\n",
              "      <td>WSET Level 3</td>\n",
              "      <td>2015-01-01</td>\n",
              "      <td>2015-01-01</td>\n",
              "    </tr>\n",
              "    <tr>\n",
              "      <th>3</th>\n",
              "      <td>hqSv727UD4f0Cr8QyA8+8g5+2cvffV/mNepQVJd0smgtpB...</td>\n",
              "      <td>Graduated Diploma</td>\n",
              "      <td>2008-01-01</td>\n",
              "      <td>2009-01-01</td>\n",
              "    </tr>\n",
              "    <tr>\n",
              "      <th>4</th>\n",
              "      <td>H2fZcOtCvd7DXFbzglIkpA5+2cvffV/mNepQVJd0smgtpB...</td>\n",
              "      <td>Lingüística Aplicada en la Enseñanza del Inglé...</td>\n",
              "      <td>2013-01-01</td>\n",
              "      <td>2016-01-01</td>\n",
              "    </tr>\n",
              "  </tbody>\n",
              "</table>\n",
              "</div>"
            ],
            "text/plain": [
              "                                             user_id  ...     enddate\n",
              "0  hqSv727UD4f0Cr8QyA8+8g5+2cvffV/mNepQVJd0smgtpB...  ...  2008-01-01\n",
              "1  hqSv727UD4f0Cr8QyA8+8g5+2cvffV/mNepQVJd0smgtpB...  ...  2005-01-01\n",
              "2  hqSv727UD4f0Cr8QyA8+8g5+2cvffV/mNepQVJd0smgtpB...  ...  2015-01-01\n",
              "3  hqSv727UD4f0Cr8QyA8+8g5+2cvffV/mNepQVJd0smgtpB...  ...  2009-01-01\n",
              "4  H2fZcOtCvd7DXFbzglIkpA5+2cvffV/mNepQVJd0smgtpB...  ...  2016-01-01\n",
              "\n",
              "[5 rows x 4 columns]"
            ]
          },
          "metadata": {
            "tags": []
          },
          "execution_count": 4
        }
      ]
    },
    {
      "cell_type": "code",
      "metadata": {
        "colab": {
          "base_uri": "https://localhost:8080/",
          "height": 391
        },
        "id": "ziJwQZHrE0Lb",
        "outputId": "e57a13c0-272f-46cc-afcc-deb906c1ba40"
      },
      "source": [
        "jobtitle_seniority_df = pd.read_csv(smart_open(\"https://info0.s3.us-east-2.amazonaws.com/recruitment/jobtitle_seniority.csv\"))\n",
        "print(jobtitle_seniority_df.info())\n",
        "jobtitle_seniority_df.head()"
      ],
      "execution_count": null,
      "outputs": [
        {
          "output_type": "stream",
          "text": [
            "<class 'pandas.core.frame.DataFrame'>\n",
            "RangeIndex: 416295 entries, 0 to 416294\n",
            "Data columns (total 3 columns):\n",
            " #   Column     Non-Null Count   Dtype  \n",
            "---  ------     --------------   -----  \n",
            " 0   user_id    416295 non-null  object \n",
            " 1   jobtitle   414290 non-null  object \n",
            " 2   seniority  416295 non-null  float64\n",
            "dtypes: float64(1), object(2)\n",
            "memory usage: 9.5+ MB\n",
            "None\n"
          ],
          "name": "stdout"
        },
        {
          "output_type": "execute_result",
          "data": {
            "text/html": [
              "<div>\n",
              "<style scoped>\n",
              "    .dataframe tbody tr th:only-of-type {\n",
              "        vertical-align: middle;\n",
              "    }\n",
              "\n",
              "    .dataframe tbody tr th {\n",
              "        vertical-align: top;\n",
              "    }\n",
              "\n",
              "    .dataframe thead th {\n",
              "        text-align: right;\n",
              "    }\n",
              "</style>\n",
              "<table border=\"1\" class=\"dataframe\">\n",
              "  <thead>\n",
              "    <tr style=\"text-align: right;\">\n",
              "      <th></th>\n",
              "      <th>user_id</th>\n",
              "      <th>jobtitle</th>\n",
              "      <th>seniority</th>\n",
              "    </tr>\n",
              "  </thead>\n",
              "  <tbody>\n",
              "    <tr>\n",
              "      <th>0</th>\n",
              "      <td>SbYa9XFYmy40AbpQIbr4cw5+2cvffV/mNepQVJd0smgtpB...</td>\n",
              "      <td>ict_manager</td>\n",
              "      <td>5.181348</td>\n",
              "    </tr>\n",
              "    <tr>\n",
              "      <th>1</th>\n",
              "      <td>5NTieg1m6jKFiY8Py3K+2jr+/k0/DTn/+K+fv+DIJSUQ20...</td>\n",
              "      <td>emergency_room_physician_assistant_banner_chur...</td>\n",
              "      <td>2.866780</td>\n",
              "    </tr>\n",
              "    <tr>\n",
              "      <th>2</th>\n",
              "      <td>R58XldIpOAmT8Tt3/x+2/w5+2cvffV/mNepQVJd0smgtpB...</td>\n",
              "      <td>marketing_promotions</td>\n",
              "      <td>3.559404</td>\n",
              "    </tr>\n",
              "    <tr>\n",
              "      <th>3</th>\n",
              "      <td>Ks30ggQyMuLYOykWc4EoXGEWBgzjpZvPNepQVJd0smgtpB...</td>\n",
              "      <td>central_billing_assistant_development_manager</td>\n",
              "      <td>4.175832</td>\n",
              "    </tr>\n",
              "    <tr>\n",
              "      <th>4</th>\n",
              "      <td>MLsEj4gLE8oHM+mWTMnRMg5+2cvffV/mNepQVJd0smgtpB...</td>\n",
              "      <td>navegador</td>\n",
              "      <td>3.767998</td>\n",
              "    </tr>\n",
              "  </tbody>\n",
              "</table>\n",
              "</div>"
            ],
            "text/plain": [
              "                                             user_id  ... seniority\n",
              "0  SbYa9XFYmy40AbpQIbr4cw5+2cvffV/mNepQVJd0smgtpB...  ...  5.181348\n",
              "1  5NTieg1m6jKFiY8Py3K+2jr+/k0/DTn/+K+fv+DIJSUQ20...  ...  2.866780\n",
              "2  R58XldIpOAmT8Tt3/x+2/w5+2cvffV/mNepQVJd0smgtpB...  ...  3.559404\n",
              "3  Ks30ggQyMuLYOykWc4EoXGEWBgzjpZvPNepQVJd0smgtpB...  ...  4.175832\n",
              "4  MLsEj4gLE8oHM+mWTMnRMg5+2cvffV/mNepQVJd0smgtpB...  ...  3.767998\n",
              "\n",
              "[5 rows x 3 columns]"
            ]
          },
          "metadata": {
            "tags": []
          },
          "execution_count": 5
        }
      ]
    },
    {
      "cell_type": "code",
      "metadata": {
        "colab": {
          "base_uri": "https://localhost:8080/",
          "height": 391
        },
        "id": "dZUGLxLfE6VN",
        "outputId": "74d62145-4132-478b-eaeb-79155c7cb1e9"
      },
      "source": [
        "jobtitle_jobposting_df = pd.read_csv(smart_open(\"https://info0.s3.us-east-2.amazonaws.com/recruitment/jobtitle_jobpostings.csv\"))\n",
        "print(jobtitle_jobposting_df.info())\n",
        "jobtitle_jobposting_df.head()"
      ],
      "execution_count": null,
      "outputs": [
        {
          "output_type": "stream",
          "text": [
            "<class 'pandas.core.frame.DataFrame'>\n",
            "RangeIndex: 100000 entries, 0 to 99999\n",
            "Data columns (total 3 columns):\n",
            " #   Column       Non-Null Count   Dtype \n",
            "---  ------       --------------   ----- \n",
            " 0   Unnamed: 0   100000 non-null  int64 \n",
            " 1   jobtitle     100000 non-null  object\n",
            " 2   description  100000 non-null  object\n",
            "dtypes: int64(1), object(2)\n",
            "memory usage: 2.3+ MB\n",
            "None\n"
          ],
          "name": "stdout"
        },
        {
          "output_type": "execute_result",
          "data": {
            "text/html": [
              "<div>\n",
              "<style scoped>\n",
              "    .dataframe tbody tr th:only-of-type {\n",
              "        vertical-align: middle;\n",
              "    }\n",
              "\n",
              "    .dataframe tbody tr th {\n",
              "        vertical-align: top;\n",
              "    }\n",
              "\n",
              "    .dataframe thead th {\n",
              "        text-align: right;\n",
              "    }\n",
              "</style>\n",
              "<table border=\"1\" class=\"dataframe\">\n",
              "  <thead>\n",
              "    <tr style=\"text-align: right;\">\n",
              "      <th></th>\n",
              "      <th>Unnamed: 0</th>\n",
              "      <th>jobtitle</th>\n",
              "      <th>description</th>\n",
              "    </tr>\n",
              "  </thead>\n",
              "  <tbody>\n",
              "    <tr>\n",
              "      <th>0</th>\n",
              "      <td>481138</td>\n",
              "      <td>retail_store_manager_|_apparel_fashion</td>\n",
              "      <td>Retail Store Manager\\n\\nSkechers\\n\\nAlbuquerqu...</td>\n",
              "    </tr>\n",
              "    <tr>\n",
              "      <th>1</th>\n",
              "      <td>373039</td>\n",
              "      <td>warehouse_associate</td>\n",
              "      <td>This job has expired on Indeed\\n\\nReasons coul...</td>\n",
              "    </tr>\n",
              "    <tr>\n",
              "      <th>2</th>\n",
              "      <td>735905</td>\n",
              "      <td>merchandiser_|_wine_spirits</td>\n",
              "      <td>Merchandiser Atlantic\\n\\nSouthern Glazer’s Win...</td>\n",
              "    </tr>\n",
              "    <tr>\n",
              "      <th>3</th>\n",
              "      <td>569912</td>\n",
              "      <td>forklift_operator_|_logistics_supply_chain</td>\n",
              "      <td>Forklift Operator\\n\\nSyncreon\\n\\nOlive Branch,...</td>\n",
              "    </tr>\n",
              "    <tr>\n",
              "      <th>4</th>\n",
              "      <td>146471</td>\n",
              "      <td>service_technician</td>\n",
              "      <td>Service Technician\\n\\nRegier Equipment Company...</td>\n",
              "    </tr>\n",
              "  </tbody>\n",
              "</table>\n",
              "</div>"
            ],
            "text/plain": [
              "   Unnamed: 0  ...                                        description\n",
              "0      481138  ...  Retail Store Manager\\n\\nSkechers\\n\\nAlbuquerqu...\n",
              "1      373039  ...  This job has expired on Indeed\\n\\nReasons coul...\n",
              "2      735905  ...  Merchandiser Atlantic\\n\\nSouthern Glazer’s Win...\n",
              "3      569912  ...  Forklift Operator\\n\\nSyncreon\\n\\nOlive Branch,...\n",
              "4      146471  ...  Service Technician\\n\\nRegier Equipment Company...\n",
              "\n",
              "[5 rows x 3 columns]"
            ]
          },
          "metadata": {
            "tags": []
          },
          "execution_count": 6
        }
      ]
    },
    {
      "cell_type": "markdown",
      "metadata": {
        "id": "gkBxPk2kZULQ"
      },
      "source": [
        "# Data Exploration for education dataset"
      ]
    },
    {
      "cell_type": "code",
      "metadata": {
        "colab": {
          "base_uri": "https://localhost:8080/",
          "height": 425
        },
        "id": "pfiOxbkgDi-1",
        "outputId": "8d3794b3-ed94-48cd-b40e-d3e2b09c9a4c"
      },
      "source": [
        "#education_df = pd.read_csv(smart_open(\"https://info0.s3.us-east-2.amazonaws.com/recruitment/education.csv\"))\n",
        "education_df['educaton_duration_days'] = pd.to_datetime(education_df['enddate'])- pd.to_datetime(education_df['startdate'])\n",
        "education_df['education_duration_years'] = education_df['educaton_duration_days'] / np.timedelta64(1, 'Y')\n",
        "education_df.info()\n",
        "education_df.head()\n",
        "#education_unique_df = education_df.drop_duplicates('user_id')\n",
        "#education_unique_df['user_id'].describe()"
      ],
      "execution_count": null,
      "outputs": [
        {
          "output_type": "stream",
          "text": [
            "<class 'pandas.core.frame.DataFrame'>\n",
            "RangeIndex: 226184 entries, 0 to 226183\n",
            "Data columns (total 6 columns):\n",
            " #   Column                    Non-Null Count   Dtype          \n",
            "---  ------                    --------------   -----          \n",
            " 0   user_id                   226184 non-null  object         \n",
            " 1   major                     162346 non-null  object         \n",
            " 2   startdate                 197556 non-null  object         \n",
            " 3   enddate                   190658 non-null  object         \n",
            " 4   educaton_duration_days    189246 non-null  timedelta64[ns]\n",
            " 5   education_duration_years  189246 non-null  float64        \n",
            "dtypes: float64(1), object(4), timedelta64[ns](1)\n",
            "memory usage: 10.4+ MB\n"
          ],
          "name": "stdout"
        },
        {
          "output_type": "execute_result",
          "data": {
            "text/html": [
              "<div>\n",
              "<style scoped>\n",
              "    .dataframe tbody tr th:only-of-type {\n",
              "        vertical-align: middle;\n",
              "    }\n",
              "\n",
              "    .dataframe tbody tr th {\n",
              "        vertical-align: top;\n",
              "    }\n",
              "\n",
              "    .dataframe thead th {\n",
              "        text-align: right;\n",
              "    }\n",
              "</style>\n",
              "<table border=\"1\" class=\"dataframe\">\n",
              "  <thead>\n",
              "    <tr style=\"text-align: right;\">\n",
              "      <th></th>\n",
              "      <th>user_id</th>\n",
              "      <th>major</th>\n",
              "      <th>startdate</th>\n",
              "      <th>enddate</th>\n",
              "      <th>educaton_duration_days</th>\n",
              "      <th>education_duration_years</th>\n",
              "    </tr>\n",
              "  </thead>\n",
              "  <tbody>\n",
              "    <tr>\n",
              "      <th>0</th>\n",
              "      <td>hqSv727UD4f0Cr8QyA8+8g5+2cvffV/mNepQVJd0smgtpB...</td>\n",
              "      <td>Master of Viticulture</td>\n",
              "      <td>2006-01-01</td>\n",
              "      <td>2008-01-01</td>\n",
              "      <td>730 days</td>\n",
              "      <td>1.998672</td>\n",
              "    </tr>\n",
              "    <tr>\n",
              "      <th>1</th>\n",
              "      <td>hqSv727UD4f0Cr8QyA8+8g5+2cvffV/mNepQVJd0smgtpB...</td>\n",
              "      <td>Bachelor of horticulture</td>\n",
              "      <td>2001-01-01</td>\n",
              "      <td>2005-01-01</td>\n",
              "      <td>1461 days</td>\n",
              "      <td>4.000082</td>\n",
              "    </tr>\n",
              "    <tr>\n",
              "      <th>2</th>\n",
              "      <td>hqSv727UD4f0Cr8QyA8+8g5+2cvffV/mNepQVJd0smgtpB...</td>\n",
              "      <td>WSET Level 3</td>\n",
              "      <td>2015-01-01</td>\n",
              "      <td>2015-01-01</td>\n",
              "      <td>0 days</td>\n",
              "      <td>0.000000</td>\n",
              "    </tr>\n",
              "    <tr>\n",
              "      <th>3</th>\n",
              "      <td>hqSv727UD4f0Cr8QyA8+8g5+2cvffV/mNepQVJd0smgtpB...</td>\n",
              "      <td>Graduated Diploma</td>\n",
              "      <td>2008-01-01</td>\n",
              "      <td>2009-01-01</td>\n",
              "      <td>366 days</td>\n",
              "      <td>1.002074</td>\n",
              "    </tr>\n",
              "    <tr>\n",
              "      <th>4</th>\n",
              "      <td>H2fZcOtCvd7DXFbzglIkpA5+2cvffV/mNepQVJd0smgtpB...</td>\n",
              "      <td>Lingüística Aplicada en la Enseñanza del Inglé...</td>\n",
              "      <td>2013-01-01</td>\n",
              "      <td>2016-01-01</td>\n",
              "      <td>1095 days</td>\n",
              "      <td>2.998008</td>\n",
              "    </tr>\n",
              "  </tbody>\n",
              "</table>\n",
              "</div>"
            ],
            "text/plain": [
              "                                             user_id  ... education_duration_years\n",
              "0  hqSv727UD4f0Cr8QyA8+8g5+2cvffV/mNepQVJd0smgtpB...  ...                 1.998672\n",
              "1  hqSv727UD4f0Cr8QyA8+8g5+2cvffV/mNepQVJd0smgtpB...  ...                 4.000082\n",
              "2  hqSv727UD4f0Cr8QyA8+8g5+2cvffV/mNepQVJd0smgtpB...  ...                 0.000000\n",
              "3  hqSv727UD4f0Cr8QyA8+8g5+2cvffV/mNepQVJd0smgtpB...  ...                 1.002074\n",
              "4  H2fZcOtCvd7DXFbzglIkpA5+2cvffV/mNepQVJd0smgtpB...  ...                 2.998008\n",
              "\n",
              "[5 rows x 6 columns]"
            ]
          },
          "metadata": {
            "tags": []
          },
          "execution_count": 8
        }
      ]
    },
    {
      "cell_type": "code",
      "metadata": {
        "colab": {
          "base_uri": "https://localhost:8080/",
          "height": 382
        },
        "id": "Xz68Nf8ED601",
        "outputId": "c6d60317-e322-4500-e133-89afc6cfd528"
      },
      "source": [
        "print(education_df['user_id'].describe())\n",
        "education_df.describe()\n"
      ],
      "execution_count": null,
      "outputs": [
        {
          "output_type": "stream",
          "text": [
            "count                                                226184\n",
            "unique                                               100000\n",
            "top       JBrqCQYzF+vs0NvzCbRnIQ5+2cvffV/mNepQVJd0smgtpB...\n",
            "freq                                                     44\n",
            "Name: user_id, dtype: object\n"
          ],
          "name": "stdout"
        },
        {
          "output_type": "execute_result",
          "data": {
            "text/html": [
              "<div>\n",
              "<style scoped>\n",
              "    .dataframe tbody tr th:only-of-type {\n",
              "        vertical-align: middle;\n",
              "    }\n",
              "\n",
              "    .dataframe tbody tr th {\n",
              "        vertical-align: top;\n",
              "    }\n",
              "\n",
              "    .dataframe thead th {\n",
              "        text-align: right;\n",
              "    }\n",
              "</style>\n",
              "<table border=\"1\" class=\"dataframe\">\n",
              "  <thead>\n",
              "    <tr style=\"text-align: right;\">\n",
              "      <th></th>\n",
              "      <th>educaton_duration_days</th>\n",
              "      <th>education_duration_years</th>\n",
              "    </tr>\n",
              "  </thead>\n",
              "  <tbody>\n",
              "    <tr>\n",
              "      <th>count</th>\n",
              "      <td>189246</td>\n",
              "      <td>189246.000000</td>\n",
              "    </tr>\n",
              "    <tr>\n",
              "      <th>mean</th>\n",
              "      <td>1119 days 07:28:29.432240384</td>\n",
              "      <td>3.064571</td>\n",
              "    </tr>\n",
              "    <tr>\n",
              "      <th>std</th>\n",
              "      <td>960 days 09:20:13.970033168</td>\n",
              "      <td>2.629456</td>\n",
              "    </tr>\n",
              "    <tr>\n",
              "      <th>min</th>\n",
              "      <td>-13514 days +00:00:00</td>\n",
              "      <td>-37.000075</td>\n",
              "    </tr>\n",
              "    <tr>\n",
              "      <th>25%</th>\n",
              "      <td>730 days 00:00:00</td>\n",
              "      <td>1.998672</td>\n",
              "    </tr>\n",
              "    <tr>\n",
              "      <th>50%</th>\n",
              "      <td>1096 days 00:00:00</td>\n",
              "      <td>3.000746</td>\n",
              "    </tr>\n",
              "    <tr>\n",
              "      <th>75%</th>\n",
              "      <td>1461 days 00:00:00</td>\n",
              "      <td>4.000082</td>\n",
              "    </tr>\n",
              "    <tr>\n",
              "      <th>max</th>\n",
              "      <td>76699 days 00:00:00</td>\n",
              "      <td>209.994730</td>\n",
              "    </tr>\n",
              "  </tbody>\n",
              "</table>\n",
              "</div>"
            ],
            "text/plain": [
              "             educaton_duration_days  education_duration_years\n",
              "count                        189246             189246.000000\n",
              "mean   1119 days 07:28:29.432240384                  3.064571\n",
              "std     960 days 09:20:13.970033168                  2.629456\n",
              "min           -13514 days +00:00:00                -37.000075\n",
              "25%               730 days 00:00:00                  1.998672\n",
              "50%              1096 days 00:00:00                  3.000746\n",
              "75%              1461 days 00:00:00                  4.000082\n",
              "max             76699 days 00:00:00                209.994730"
            ]
          },
          "metadata": {
            "tags": []
          },
          "execution_count": 10
        }
      ]
    },
    {
      "cell_type": "markdown",
      "metadata": {
        "id": "JzWxAC4BPt6L"
      },
      "source": [
        "There are 100k unique users but 226k instances, they might have more than 1 degree/certification/diploma/level of education so it is important to analyze the range of these years.\n",
        "As we can see there are negative and extremely high number of education years which is not reasonable so we will get rid of those for making our dataset morelike true representetation of the real-world "
      ]
    },
    {
      "cell_type": "code",
      "metadata": {
        "colab": {
          "base_uri": "https://localhost:8080/",
          "height": 688
        },
        "id": "ym1MdvtSrUVq",
        "outputId": "da68605e-8001-4f57-fdb0-3517c314ba52"
      },
      "source": [
        "Negative_education = education_df[education_df['education_duration_years']<0]\n",
        "print(Negative_education.info())\n",
        "Negative_education = Negative_education.groupby(['user_id','major']).sum()\n",
        "Negative_education"
      ],
      "execution_count": null,
      "outputs": [
        {
          "output_type": "stream",
          "text": [
            "<class 'pandas.core.frame.DataFrame'>\n",
            "Int64Index: 208 entries, 1881 to 223151\n",
            "Data columns (total 6 columns):\n",
            " #   Column                    Non-Null Count  Dtype          \n",
            "---  ------                    --------------  -----          \n",
            " 0   user_id                   208 non-null    object         \n",
            " 1   major                     161 non-null    object         \n",
            " 2   startdate                 208 non-null    object         \n",
            " 3   enddate                   208 non-null    object         \n",
            " 4   educaton_duration_days    208 non-null    timedelta64[ns]\n",
            " 5   education_duration_years  208 non-null    float64        \n",
            "dtypes: float64(1), object(4), timedelta64[ns](1)\n",
            "memory usage: 11.4+ KB\n",
            "None\n"
          ],
          "name": "stdout"
        },
        {
          "output_type": "execute_result",
          "data": {
            "text/html": [
              "<div>\n",
              "<style scoped>\n",
              "    .dataframe tbody tr th:only-of-type {\n",
              "        vertical-align: middle;\n",
              "    }\n",
              "\n",
              "    .dataframe tbody tr th {\n",
              "        vertical-align: top;\n",
              "    }\n",
              "\n",
              "    .dataframe thead th {\n",
              "        text-align: right;\n",
              "    }\n",
              "</style>\n",
              "<table border=\"1\" class=\"dataframe\">\n",
              "  <thead>\n",
              "    <tr style=\"text-align: right;\">\n",
              "      <th></th>\n",
              "      <th></th>\n",
              "      <th>education_duration_years</th>\n",
              "    </tr>\n",
              "    <tr>\n",
              "      <th>user_id</th>\n",
              "      <th>major</th>\n",
              "      <th></th>\n",
              "    </tr>\n",
              "  </thead>\n",
              "  <tbody>\n",
              "    <tr>\n",
              "      <th>+LcYEyG8cNOjhgYuLZ6glA5+2cvffV/mNepQVJd0smgtpBr4MGMFJQ==</th>\n",
              "      <th>Bacharelado em Administração</th>\n",
              "      <td>-12.495808</td>\n",
              "    </tr>\n",
              "    <tr>\n",
              "      <th>+R/dplUvB26YHWOu6eBlSA5+2cvffV/mNepQVJd0smgtpBr4MGMFJQ==</th>\n",
              "      <th>High school Diploma</th>\n",
              "      <td>-18.834062</td>\n",
              "    </tr>\n",
              "    <tr>\n",
              "      <th>+Ra0ZAOrlalfy8fa1B0PxXAG1BvSkUYANepQVJd0smgtpBr4MGMFJQ==</th>\n",
              "      <th>High School, Business</th>\n",
              "      <td>-7.584002</td>\n",
              "    </tr>\n",
              "    <tr>\n",
              "      <th>+ht2VDXp8fNaFzItp0UGkHAG1BvSkUYANepQVJd0smgtpBr4MGMFJQ==</th>\n",
              "      <th>High School</th>\n",
              "      <td>-0.251887</td>\n",
              "    </tr>\n",
              "    <tr>\n",
              "      <th>+pGylK45chH4GXmHEc3q4w4ZM3TcQvn1bQ/jHgHWG0kf/bHrn17MPg==</th>\n",
              "      <th>Bachelor of Arts</th>\n",
              "      <td>-19.162611</td>\n",
              "    </tr>\n",
              "    <tr>\n",
              "      <th>...</th>\n",
              "      <th>...</th>\n",
              "      <td>...</td>\n",
              "    </tr>\n",
              "    <tr>\n",
              "      <th>yyOjJT7nv8PwyhQZVCk2TXAG1BvSkUYANepQVJd0smgtpBr4MGMFJQ==</th>\n",
              "      <th>High School, none</th>\n",
              "      <td>-1.916535</td>\n",
              "    </tr>\n",
              "    <tr>\n",
              "      <th>zGlgYPWlX9MF8FQBmyInzw4ZM3TcQvn1bQ/jHgHWG0kf/bHrn17MPg==</th>\n",
              "      <th>BA (Hons) - 2:1</th>\n",
              "      <td>-0.999336</td>\n",
              "    </tr>\n",
              "    <tr>\n",
              "      <th>zMvFDWG/TcPORcB1NBXofg4ZM3TcQvn1bQ/jHgHWG0kf/bHrn17MPg==</th>\n",
              "      <th>Bsc</th>\n",
              "      <td>-12.000246</td>\n",
              "    </tr>\n",
              "    <tr>\n",
              "      <th>zdY24r52wo4Tj6ai3UeDgQ5+2cvffV/mNepQVJd0smgtpBr4MGMFJQ==</th>\n",
              "      <th>Diplomado</th>\n",
              "      <td>-2.581846</td>\n",
              "    </tr>\n",
              "    <tr>\n",
              "      <th>zy7jgcZsMTbgqNz9YHLIX3AG1BvSkUYANepQVJd0smgtpBr4MGMFJQ==</th>\n",
              "      <th>Bachelors, Computer Science/IT TechnologyComputer Sciences</th>\n",
              "      <td>-7.000828</td>\n",
              "    </tr>\n",
              "  </tbody>\n",
              "</table>\n",
              "<p>144 rows × 1 columns</p>\n",
              "</div>"
            ],
            "text/plain": [
              "                                                                                                       education_duration_years\n",
              "user_id                                            major                                                                       \n",
              "+LcYEyG8cNOjhgYuLZ6glA5+2cvffV/mNepQVJd0smgtpBr... Bacharelado em Administração                                      -12.495808\n",
              "+R/dplUvB26YHWOu6eBlSA5+2cvffV/mNepQVJd0smgtpBr... High school Diploma                                               -18.834062\n",
              "+Ra0ZAOrlalfy8fa1B0PxXAG1BvSkUYANepQVJd0smgtpBr... High School, Business                                              -7.584002\n",
              "+ht2VDXp8fNaFzItp0UGkHAG1BvSkUYANepQVJd0smgtpBr... High School                                                        -0.251887\n",
              "+pGylK45chH4GXmHEc3q4w4ZM3TcQvn1bQ/jHgHWG0kf/bH... Bachelor of Arts                                                  -19.162611\n",
              "...                                                                                                                         ...\n",
              "yyOjJT7nv8PwyhQZVCk2TXAG1BvSkUYANepQVJd0smgtpBr... High School, none                                                  -1.916535\n",
              "zGlgYPWlX9MF8FQBmyInzw4ZM3TcQvn1bQ/jHgHWG0kf/bH... BA (Hons) - 2:1                                                    -0.999336\n",
              "zMvFDWG/TcPORcB1NBXofg4ZM3TcQvn1bQ/jHgHWG0kf/bH... Bsc                                                               -12.000246\n",
              "zdY24r52wo4Tj6ai3UeDgQ5+2cvffV/mNepQVJd0smgtpBr... Diplomado                                                          -2.581846\n",
              "zy7jgcZsMTbgqNz9YHLIX3AG1BvSkUYANepQVJd0smgtpBr... Bachelors, Computer Science/IT TechnologyComput...                 -7.000828\n",
              "\n",
              "[144 rows x 1 columns]"
            ]
          },
          "metadata": {
            "tags": []
          },
          "execution_count": 11
        }
      ]
    },
    {
      "cell_type": "markdown",
      "metadata": {
        "id": "mncPBjaFJJTl"
      },
      "source": [
        "208 instances (144 users) have negative education years exprerience, it could be either mistakely flipped start/end date or wrong values. I can either delete it or take mod of these values to avoid inconsistenties in sutucture sum operation. I am gonna delete them for now.\n"
      ]
    },
    {
      "cell_type": "code",
      "metadata": {
        "id": "Ge1vEJAYr_f0"
      },
      "source": [
        "Negative_education_idx = education_df[education_df['education_duration_years']<0].index\n",
        "\n",
        "education_df.drop(Negative_education_idx, inplace=True)\n"
      ],
      "execution_count": null,
      "outputs": []
    },
    {
      "cell_type": "code",
      "metadata": {
        "colab": {
          "base_uri": "https://localhost:8080/",
          "height": 688
        },
        "id": "aNqS_-LzJGaX",
        "outputId": "1e039870-bb8f-4cd8-b225-aac53e28ed55"
      },
      "source": [
        "super_education = education_df[education_df['education_duration_years']>25]\n",
        "print(super_education.info())\n",
        "super_education = super_education.groupby(['user_id','major']).sum()\n",
        "super_education"
      ],
      "execution_count": null,
      "outputs": [
        {
          "output_type": "stream",
          "text": [
            "<class 'pandas.core.frame.DataFrame'>\n",
            "Int64Index: 202 entries, 289 to 223782\n",
            "Data columns (total 6 columns):\n",
            " #   Column                    Non-Null Count  Dtype          \n",
            "---  ------                    --------------  -----          \n",
            " 0   user_id                   202 non-null    object         \n",
            " 1   major                     157 non-null    object         \n",
            " 2   startdate                 202 non-null    object         \n",
            " 3   enddate                   202 non-null    object         \n",
            " 4   educaton_duration_days    202 non-null    timedelta64[ns]\n",
            " 5   education_duration_years  202 non-null    float64        \n",
            "dtypes: float64(1), object(4), timedelta64[ns](1)\n",
            "memory usage: 11.0+ KB\n",
            "None\n"
          ],
          "name": "stdout"
        },
        {
          "output_type": "execute_result",
          "data": {
            "text/html": [
              "<div>\n",
              "<style scoped>\n",
              "    .dataframe tbody tr th:only-of-type {\n",
              "        vertical-align: middle;\n",
              "    }\n",
              "\n",
              "    .dataframe tbody tr th {\n",
              "        vertical-align: top;\n",
              "    }\n",
              "\n",
              "    .dataframe thead th {\n",
              "        text-align: right;\n",
              "    }\n",
              "</style>\n",
              "<table border=\"1\" class=\"dataframe\">\n",
              "  <thead>\n",
              "    <tr style=\"text-align: right;\">\n",
              "      <th></th>\n",
              "      <th></th>\n",
              "      <th>education_duration_years</th>\n",
              "    </tr>\n",
              "    <tr>\n",
              "      <th>user_id</th>\n",
              "      <th>major</th>\n",
              "      <th></th>\n",
              "    </tr>\n",
              "  </thead>\n",
              "  <tbody>\n",
              "    <tr>\n",
              "      <th>+XKAbgeRiJNDlbT6YmWfBA5+2cvffV/mNepQVJd0smgtpBr4MGMFJQ==</th>\n",
              "      <th>Doctor of Philosophy (Ph.D.)</th>\n",
              "      <td>29.002649</td>\n",
              "    </tr>\n",
              "    <tr>\n",
              "      <th>/UaKDDpspVRpuvNII74aow4ZM3TcQvn1bQ/jHgHWG0kf/bHrn17MPg==</th>\n",
              "      <th>Undergrad</th>\n",
              "      <td>32.000657</td>\n",
              "    </tr>\n",
              "    <tr>\n",
              "      <th>0ODi9jDnFjZfNuly1m51zg5+2cvffV/mNepQVJd0smgtpBr4MGMFJQ==</th>\n",
              "      <th>Especialista</th>\n",
              "      <td>33.999329</td>\n",
              "    </tr>\n",
              "    <tr>\n",
              "      <th>1jx5/GO2pMPQhi1m3wVr+XAG1BvSkUYANepQVJd0smgtpBr4MGMFJQ==</th>\n",
              "      <th>astrology</th>\n",
              "      <td>41.999493</td>\n",
              "    </tr>\n",
              "    <tr>\n",
              "      <th>2znw1Ai5GP5OO//gaZazkw5+2cvffV/mNepQVJd0smgtpBr4MGMFJQ==</th>\n",
              "      <th>Eğitim Bilimleri Fakiltesi</th>\n",
              "      <td>25.999165</td>\n",
              "    </tr>\n",
              "    <tr>\n",
              "      <th>...</th>\n",
              "      <th>...</th>\n",
              "      <td>...</td>\n",
              "    </tr>\n",
              "    <tr>\n",
              "      <th>ydJazoiCzf5SRza9OeazTg4ZM3TcQvn1bQ/jHgHWG0kf/bHrn17MPg==</th>\n",
              "      <th>Bibleology</th>\n",
              "      <td>32.000657</td>\n",
              "    </tr>\n",
              "    <tr>\n",
              "      <th>ygH0ojU/lE8exfUJ+2eebQ5+2cvffV/mNepQVJd0smgtpBr4MGMFJQ==</th>\n",
              "      <th>x dEgReE</th>\n",
              "      <td>56.001150</td>\n",
              "    </tr>\n",
              "    <tr>\n",
              "      <th>yggyNKkshD9sLqVbDEwwUw5+2cvffV/mNepQVJd0smgtpBr4MGMFJQ==</th>\n",
              "      <th>BECHLOR OF COMMERCE</th>\n",
              "      <td>35.001403</td>\n",
              "    </tr>\n",
              "    <tr>\n",
              "      <th>zGLt7olxcluW2c1/1e15Rg5+2cvffV/mNepQVJd0smgtpBr4MGMFJQ==</th>\n",
              "      <th>SPM</th>\n",
              "      <td>26.001903</td>\n",
              "    </tr>\n",
              "    <tr>\n",
              "      <th>zN5hBIf3C/NOo70yBDVWZQ5+2cvffV/mNepQVJd0smgtpBr4MGMFJQ==</th>\n",
              "      <th>CAP</th>\n",
              "      <td>26.001903</td>\n",
              "    </tr>\n",
              "  </tbody>\n",
              "</table>\n",
              "<p>145 rows × 1 columns</p>\n",
              "</div>"
            ],
            "text/plain": [
              "                                                                                 education_duration_years\n",
              "user_id                                            major                                                 \n",
              "+XKAbgeRiJNDlbT6YmWfBA5+2cvffV/mNepQVJd0smgtpBr... Doctor of Philosophy (Ph.D.)                 29.002649\n",
              "/UaKDDpspVRpuvNII74aow4ZM3TcQvn1bQ/jHgHWG0kf/bH... Undergrad                                    32.000657\n",
              "0ODi9jDnFjZfNuly1m51zg5+2cvffV/mNepQVJd0smgtpBr... Especialista                                 33.999329\n",
              "1jx5/GO2pMPQhi1m3wVr+XAG1BvSkUYANepQVJd0smgtpBr... astrology                                    41.999493\n",
              "2znw1Ai5GP5OO//gaZazkw5+2cvffV/mNepQVJd0smgtpBr... Eğitim Bilimleri Fakiltesi                   25.999165\n",
              "...                                                                                                   ...\n",
              "ydJazoiCzf5SRza9OeazTg4ZM3TcQvn1bQ/jHgHWG0kf/bH... Bibleology                                   32.000657\n",
              "ygH0ojU/lE8exfUJ+2eebQ5+2cvffV/mNepQVJd0smgtpBr... x dEgReE                                     56.001150\n",
              "yggyNKkshD9sLqVbDEwwUw5+2cvffV/mNepQVJd0smgtpBr... BECHLOR OF COMMERCE                          35.001403\n",
              "zGLt7olxcluW2c1/1e15Rg5+2cvffV/mNepQVJd0smgtpBr... SPM                                          26.001903\n",
              "zN5hBIf3C/NOo70yBDVWZQ5+2cvffV/mNepQVJd0smgtpBr... CAP                                          26.001903\n",
              "\n",
              "[145 rows x 1 columns]"
            ]
          },
          "metadata": {
            "tags": []
          },
          "execution_count": 12
        }
      ]
    },
    {
      "cell_type": "markdown",
      "metadata": {
        "id": "CE-xM58JcBp9"
      },
      "source": [
        "It is possible for some users to have muliple education or certifications/courses at the same time and taking a group by sum for each of them would be higher than the actual experience but traditionally most people do one degree major at one time then move on to another degree so going towards summation calculation for the users having multiple major/degree/certifications experiences."
      ]
    },
    {
      "cell_type": "code",
      "metadata": {
        "id": "Hbi-fSeNKw_w"
      },
      "source": [
        "super_education_idx = education_df[education_df['education_duration_years']>50].index\n",
        "\n",
        "education_df.drop(super_education_idx, inplace=True)\n"
      ],
      "execution_count": null,
      "outputs": []
    },
    {
      "cell_type": "code",
      "metadata": {
        "colab": {
          "base_uri": "https://localhost:8080/",
          "height": 297
        },
        "id": "3a4KAshprKoc",
        "outputId": "8255a3e4-a28d-4667-f416-2da7f23abb53"
      },
      "source": [
        "education_df.describe()"
      ],
      "execution_count": null,
      "outputs": [
        {
          "output_type": "execute_result",
          "data": {
            "text/html": [
              "<div>\n",
              "<style scoped>\n",
              "    .dataframe tbody tr th:only-of-type {\n",
              "        vertical-align: middle;\n",
              "    }\n",
              "\n",
              "    .dataframe tbody tr th {\n",
              "        vertical-align: top;\n",
              "    }\n",
              "\n",
              "    .dataframe thead th {\n",
              "        text-align: right;\n",
              "    }\n",
              "</style>\n",
              "<table border=\"1\" class=\"dataframe\">\n",
              "  <thead>\n",
              "    <tr style=\"text-align: right;\">\n",
              "      <th></th>\n",
              "      <th>educaton_duration_days</th>\n",
              "      <th>education_duration_years</th>\n",
              "    </tr>\n",
              "  </thead>\n",
              "  <tbody>\n",
              "    <tr>\n",
              "      <th>count</th>\n",
              "      <td>189005</td>\n",
              "      <td>189005.000000</td>\n",
              "    </tr>\n",
              "    <tr>\n",
              "      <th>mean</th>\n",
              "      <td>1118 days 20:12:41.960867504</td>\n",
              "      <td>3.063286</td>\n",
              "    </tr>\n",
              "    <tr>\n",
              "      <th>std</th>\n",
              "      <td>861 days 02:01:21.562525152</td>\n",
              "      <td>2.357569</td>\n",
              "    </tr>\n",
              "    <tr>\n",
              "      <th>min</th>\n",
              "      <td>0 days 00:00:00</td>\n",
              "      <td>0.000000</td>\n",
              "    </tr>\n",
              "    <tr>\n",
              "      <th>25%</th>\n",
              "      <td>730 days 00:00:00</td>\n",
              "      <td>1.998672</td>\n",
              "    </tr>\n",
              "    <tr>\n",
              "      <th>50%</th>\n",
              "      <td>1096 days 00:00:00</td>\n",
              "      <td>3.000746</td>\n",
              "    </tr>\n",
              "    <tr>\n",
              "      <th>75%</th>\n",
              "      <td>1461 days 00:00:00</td>\n",
              "      <td>4.000082</td>\n",
              "    </tr>\n",
              "    <tr>\n",
              "      <th>max</th>\n",
              "      <td>18262 days 00:00:00</td>\n",
              "      <td>49.999658</td>\n",
              "    </tr>\n",
              "  </tbody>\n",
              "</table>\n",
              "</div>"
            ],
            "text/plain": [
              "             educaton_duration_days  education_duration_years\n",
              "count                        189005             189005.000000\n",
              "mean   1118 days 20:12:41.960867504                  3.063286\n",
              "std     861 days 02:01:21.562525152                  2.357569\n",
              "min                 0 days 00:00:00                  0.000000\n",
              "25%               730 days 00:00:00                  1.998672\n",
              "50%              1096 days 00:00:00                  3.000746\n",
              "75%              1461 days 00:00:00                  4.000082\n",
              "max             18262 days 00:00:00                 49.999658"
            ]
          },
          "metadata": {
            "tags": []
          },
          "execution_count": 14
        }
      ]
    },
    {
      "cell_type": "code",
      "metadata": {
        "colab": {
          "base_uri": "https://localhost:8080/"
        },
        "id": "EGlwtrr8rWfT",
        "outputId": "f08726e6-0887-4dd5-ff0b-c87324d59de8"
      },
      "source": [
        "education_df.info()"
      ],
      "execution_count": null,
      "outputs": [
        {
          "output_type": "stream",
          "text": [
            "<class 'pandas.core.frame.DataFrame'>\n",
            "Int64Index: 225943 entries, 0 to 226183\n",
            "Data columns (total 6 columns):\n",
            " #   Column                    Non-Null Count   Dtype          \n",
            "---  ------                    --------------   -----          \n",
            " 0   user_id                   225943 non-null  object         \n",
            " 1   major                     162156 non-null  object         \n",
            " 2   startdate                 197315 non-null  object         \n",
            " 3   enddate                   190417 non-null  object         \n",
            " 4   educaton_duration_days    189005 non-null  timedelta64[ns]\n",
            " 5   education_duration_years  189005 non-null  float64        \n",
            "dtypes: float64(1), object(4), timedelta64[ns](1)\n",
            "memory usage: 12.1+ MB\n"
          ],
          "name": "stdout"
        }
      ]
    },
    {
      "cell_type": "code",
      "metadata": {
        "colab": {
          "base_uri": "https://localhost:8080/"
        },
        "id": "vAC_xYhqsQ_k",
        "outputId": "a6d198b1-bc14-4475-ebad-835423266e0a"
      },
      "source": [
        "education_df['user_id'].value_counts().head(20)"
      ],
      "execution_count": null,
      "outputs": [
        {
          "output_type": "execute_result",
          "data": {
            "text/plain": [
              "JBrqCQYzF+vs0NvzCbRnIQ5+2cvffV/mNepQVJd0smgtpBr4MGMFJQ==    44\n",
              "joaxVgqkpTvYMzC5yha0tQ5+2cvffV/mNepQVJd0smgtpBr4MGMFJQ==    38\n",
              "gK/XUmPPwHFc4V2oQ8pIyHAG1BvSkUYANepQVJd0smgtpBr4MGMFJQ==    30\n",
              "h6ZTSBvtdzFRr6jLaNBaYQ4ZM3TcQvn1bQ/jHgHWG0kf/bHrn17MPg==    30\n",
              "ZBu2ZkJyt1gXd7iwSarhuA4ZM3TcQvn1bQ/jHgHWG0kf/bHrn17MPg==    28\n",
              "CHvb7FMLAqHers3tWtNP4A5+2cvffV/mNepQVJd0smgtpBr4MGMFJQ==    26\n",
              "4AvaHjAouxB9suLx0J5fvw4ZM3TcQvn1bQ/jHgHWG0kf/bHrn17MPg==    24\n",
              "11OMVXZlY7Ln8ymZj1WzSw5+2cvffV/mNepQVJd0smgtpBr4MGMFJQ==    24\n",
              "A71HC7+xZaZUZsyb/zMJuA5+2cvffV/mNepQVJd0smgtpBr4MGMFJQ==    24\n",
              "A5ZRM9t4dL2qjNEcxZJ5QA5+2cvffV/mNepQVJd0smgtpBr4MGMFJQ==    23\n",
              "jTCTn2Ec2d9PBOJyKpMAHA5+2cvffV/mNepQVJd0smgtpBr4MGMFJQ==    23\n",
              "p2OTceFNDXConYA7vouvDQ5+2cvffV/mNepQVJd0smgtpBr4MGMFJQ==    23\n",
              "yj3b0Rli4sTexPWP3OzF9w5+2cvffV/mNepQVJd0smgtpBr4MGMFJQ==    22\n",
              "Ocq10gz99bQtsaL38RZLcg4ZM3TcQvn1bQ/jHgHWG0kf/bHrn17MPg==    22\n",
              "Y5f3/Rq9iz9kCJAk3c18zQ4ZM3TcQvn1bQ/jHgHWG0kf/bHrn17MPg==    22\n",
              "DtQUtAOCsZ6PUu/nT+3VNA5+2cvffV/mNepQVJd0smgtpBr4MGMFJQ==    22\n",
              "bZIw/p0QebU2hFamokX9Znb8pH4QURE7NepQVJd0smgtpBr4MGMFJQ==    22\n",
              "uxY2fVC4sdYElOG7uoQSpg5+2cvffV/mNepQVJd0smgtpBr4MGMFJQ==    21\n",
              "fJlbLXSDAg5H2CFeWZC+BA5+2cvffV/mNepQVJd0smgtpBr4MGMFJQ==    21\n",
              "9L8bSK1KVMZAKtQFkR4GIA4ZM3TcQvn1bQ/jHgHWG0kf/bHrn17MPg==    20\n",
              "Name: user_id, dtype: int64"
            ]
          },
          "metadata": {
            "tags": []
          },
          "execution_count": 22
        }
      ]
    },
    {
      "cell_type": "markdown",
      "metadata": {
        "id": "pFgxv4WkRjvF"
      },
      "source": [
        "We can see there are same users with multiple rows so going by the simple calculation and instead of taking the summation of all the users education experience, we focus on the people with undergrad degree and extract their age from the startdate of the users "
      ]
    },
    {
      "cell_type": "markdown",
      "metadata": {
        "id": "QLuAg6srY1vt"
      },
      "source": [
        "## Getting age data just based on bachelors degree"
      ]
    },
    {
      "cell_type": "markdown",
      "metadata": {
        "id": "hasLky_ESDrc"
      },
      "source": [
        "in this dataset bachelors, masters, highscool, diploma, PhD are some of the major education but different type of bachelors amonts to the highest numbers so extracted the bachelors details and calculated the age from their bachelor's start date (probably and mosly they were 18, if not all of them) \n",
        "###assumption: users started their bachlors degree at/around 18"
      ]
    },
    {
      "cell_type": "code",
      "metadata": {
        "colab": {
          "base_uri": "https://localhost:8080/"
        },
        "id": "XXK9qWsPulLJ",
        "outputId": "14ef0700-5fab-468e-a76a-63353b6f9a83"
      },
      "source": [
        "#Normalizing degree names for standard and simple age extraction\n",
        "#education_df['Normalized_major'] = education_df['major'].replace([\"High School\",\"Diploma\",\"Associate's degree\",\"High School Diploma\",\"Associates\",\n",
        "#                                                                  \"Associate of Science (A.S.)\",\"Associate’s Degree\",\"Associate of Arts (A.A.)\",\"Associate of Arts (AA)\",\n",
        "#                                                                  \"AA\"],\n",
        "#                                                                 'HS/Associate')\n",
        "\n",
        "education_df['Normalized_major'] = education_df['major'].replace(['BS','BA','B.S.','B.A.',\"Bachelor's Degree\",\"Bachelor's degree\",\"Bachelor’s Degree\"\n",
        "                                                                  'Bachelor of Business Administration (B.B.A.)','Bachelor of Science (BSc)',\n",
        "                                                                  'Bachelor of Arts','Bachelor of Arts (BA)','Bachelor of Science','Bachelor of Arts (B.A.)',\n",
        "                                                                  \"Bachelor of Science (BS)\",\"Bachelor of Science (B.S.)\",\"Bachelor of Engineering (B.E.)\",\n",
        "                                                                  \"Bachelor of Applied Science (B.A.Sc.)\",\"Bachelor of Commerce (B.Com.)\",\"Bachelor of Technology (B.Tech.)\",\n",
        "                                                                  \"Bachelor of Science - BS\",\"Bachelor of Arts - BA\",\"BSc\",\"BBA\",\"Bachelor’s Degree\",\n",
        "                                                                  \"Bachelor\",\"Bachelor of Business Administration (BBA)\",\"Bachelor of Business Administration (B.B.A.)\",\n",
        "                                                                  \"Bachelor of Science (B.Sc.)\",\"Business Administration and Management\",\"Bachelors of Science\",\n",
        "                                                                  \"Bachelor of Engineering (B.Eng.)\",\"BE\",\"Bachelor of Engineering (BE)\",\n",
        "                                                                  \"Business Administration\",\"Bachelor of Applied Science (BASc)\",\"Bachelor of Engineering (BEng)\",\n",
        "                                                                  \"B.S\",\"B.Tech\",\"Bachelor of Engineering\",\"Bachelor of Engineering (BEng)\",\"Bachelor's\",\n",
        "                                                                  \"Engineer's degree\",\"Bachelor of Fine Arts (BFA)\",\"BSN\",\"Bacharelado em Administração\",\"B.E\",\n",
        "                                                                  \"B.Sc.\",\"BSBA\"],\n",
        "                                                                 'Bachelors')\n",
        "#education_df['Normalized_major'] = education_df['Normalized_major'].replace(['MS','MA','M.S.','M.A.',\"Master's degree\",\"Master\",\"Masters\",\"Master's Degree\",\"MBA\",\n",
        "#                                                                  'Master of Business Administration (M.B.A.)','Master of Science (MSc)',\n",
        "#                                                                  'Master of Arts','Master of Arts (M.A.)','Master of Science','Master of Science (MS)',\n",
        "#                                                                  \"Master of Science - MS\",\"Master of Arts (MA)\",\"Master of Science (M.Sc.)\",\"MSc\",\n",
        "#                                                                  \"Master of Science (M.S.)\",\"Master’s Degree\",\"Master of Business Administration (MBA)\",\n",
        "#                                                                  \"Master of Education (M.Ed.)\"],\n",
        "#                                                                 'Masters')\n",
        "\n",
        "print(education_df['major'].value_counts())\n",
        "print(education_df['Normalized_major'].value_counts())\n"
      ],
      "execution_count": null,
      "outputs": [
        {
          "output_type": "stream",
          "text": [
            "Bachelor's degree                                                        5936\n",
            "BS                                                                       3095\n",
            "Master's degree                                                          3060\n",
            "Bachelor of Arts (B.A.)                                                  2985\n",
            "BA                                                                       2927\n",
            "                                                                         ... \n",
            "Gymnasielärarexamen i biologi och religion                                  1\n",
            "medicine kandidat                                                           1\n",
            "Diploma de finalizare a studiilor gimnaziale                                1\n",
            "Cand. Polit. (M.sc.)                                                        1\n",
            "Tecnico superior en Seguridad e Higiene ,Control Ambiental Industrial       1\n",
            "Name: major, Length: 44817, dtype: int64\n",
            "Bachelors                                                                41287\n",
            "Master's degree                                                           3060\n",
            "High School                                                               2448\n",
            "MBA                                                                       2065\n",
            "Diploma                                                                   1980\n",
            "                                                                         ...  \n",
            "BSc (Hons) Diagnostic Radiography                                            1\n",
            "BSRN                                                                         1\n",
            "Six Sigma Green Belt Certified                                               1\n",
            "some college                                                                 1\n",
            "Tecnico superior en Seguridad e Higiene ,Control Ambiental Industrial        1\n",
            "Name: Normalized_major, Length: 44772, dtype: int64\n"
          ],
          "name": "stdout"
        }
      ]
    },
    {
      "cell_type": "code",
      "metadata": {
        "colab": {
          "base_uri": "https://localhost:8080/"
        },
        "id": "4MvWCbN-Uuhc",
        "outputId": "1b4c1bfa-71a8-462c-f7f3-d99a51fd6825"
      },
      "source": [
        "undergrad_education = education_df[education_df['Normalized_major']==\"Bachelors\"]\n",
        "undergrad_education.info()"
      ],
      "execution_count": null,
      "outputs": [
        {
          "output_type": "stream",
          "text": [
            "<class 'pandas.core.frame.DataFrame'>\n",
            "Int64Index: 41287 entries, 8 to 226173\n",
            "Data columns (total 7 columns):\n",
            " #   Column                    Non-Null Count  Dtype          \n",
            "---  ------                    --------------  -----          \n",
            " 0   user_id                   41287 non-null  object         \n",
            " 1   major                     41287 non-null  object         \n",
            " 2   startdate                 36267 non-null  object         \n",
            " 3   enddate                   35650 non-null  object         \n",
            " 4   educaton_duration_days    35246 non-null  timedelta64[ns]\n",
            " 5   education_duration_years  35246 non-null  float64        \n",
            " 6   Normalized_major          41287 non-null  object         \n",
            "dtypes: float64(1), object(5), timedelta64[ns](1)\n",
            "memory usage: 2.5+ MB\n"
          ],
          "name": "stdout"
        }
      ]
    },
    {
      "cell_type": "markdown",
      "metadata": {
        "id": "UUZV6er8Uvhj"
      },
      "source": [
        "with combining basic bachelors degree namewise we have 41K instances which can be a good subset for age calculation based on the average assumption of peole start their undergrad degree around the age 18.\n"
      ]
    },
    {
      "cell_type": "code",
      "metadata": {
        "colab": {
          "base_uri": "https://localhost:8080/",
          "height": 297
        },
        "id": "gGSEJ9kvUbgD",
        "outputId": "364fa807-8ce8-4ed3-d455-8e3157b017cb"
      },
      "source": [
        "undergrad_education.describe()"
      ],
      "execution_count": null,
      "outputs": [
        {
          "output_type": "execute_result",
          "data": {
            "text/html": [
              "<div>\n",
              "<style scoped>\n",
              "    .dataframe tbody tr th:only-of-type {\n",
              "        vertical-align: middle;\n",
              "    }\n",
              "\n",
              "    .dataframe tbody tr th {\n",
              "        vertical-align: top;\n",
              "    }\n",
              "\n",
              "    .dataframe thead th {\n",
              "        text-align: right;\n",
              "    }\n",
              "</style>\n",
              "<table border=\"1\" class=\"dataframe\">\n",
              "  <thead>\n",
              "    <tr style=\"text-align: right;\">\n",
              "      <th></th>\n",
              "      <th>educaton_duration_days</th>\n",
              "      <th>education_duration_years</th>\n",
              "    </tr>\n",
              "  </thead>\n",
              "  <tbody>\n",
              "    <tr>\n",
              "      <th>count</th>\n",
              "      <td>32082</td>\n",
              "      <td>32082.000000</td>\n",
              "    </tr>\n",
              "    <tr>\n",
              "      <th>mean</th>\n",
              "      <td>1287 days 14:41:02.838964016</td>\n",
              "      <td>3.525361</td>\n",
              "    </tr>\n",
              "    <tr>\n",
              "      <th>std</th>\n",
              "      <td>376 days 01:16:07.385940100</td>\n",
              "      <td>1.029598</td>\n",
              "    </tr>\n",
              "    <tr>\n",
              "      <th>min</th>\n",
              "      <td>0 days 00:00:00</td>\n",
              "      <td>0.000000</td>\n",
              "    </tr>\n",
              "    <tr>\n",
              "      <th>25%</th>\n",
              "      <td>1096 days 00:00:00</td>\n",
              "      <td>3.000746</td>\n",
              "    </tr>\n",
              "    <tr>\n",
              "      <th>50%</th>\n",
              "      <td>1461 days 00:00:00</td>\n",
              "      <td>4.000082</td>\n",
              "    </tr>\n",
              "    <tr>\n",
              "      <th>75%</th>\n",
              "      <td>1461 days 00:00:00</td>\n",
              "      <td>4.000082</td>\n",
              "    </tr>\n",
              "    <tr>\n",
              "      <th>max</th>\n",
              "      <td>1826 days 00:00:00</td>\n",
              "      <td>4.999418</td>\n",
              "    </tr>\n",
              "  </tbody>\n",
              "</table>\n",
              "</div>"
            ],
            "text/plain": [
              "             educaton_duration_days  education_duration_years\n",
              "count                         32082              32082.000000\n",
              "mean   1287 days 14:41:02.838964016                  3.525361\n",
              "std     376 days 01:16:07.385940100                  1.029598\n",
              "min                 0 days 00:00:00                  0.000000\n",
              "25%              1096 days 00:00:00                  3.000746\n",
              "50%              1461 days 00:00:00                  4.000082\n",
              "75%              1461 days 00:00:00                  4.000082\n",
              "max              1826 days 00:00:00                  4.999418"
            ]
          },
          "metadata": {
            "tags": []
          },
          "execution_count": 29
        }
      ]
    },
    {
      "cell_type": "markdown",
      "metadata": {
        "id": "VeNSKztoS39C"
      },
      "source": [
        "since we only took into consideration bachelors degree and people tent to fining it in 4-5 years so removing others as outliers in this dataset for ground truth labelling.\n",
        "### assumption: finish undergrad in 4-5 years mostly "
      ]
    },
    {
      "cell_type": "code",
      "metadata": {
        "colab": {
          "base_uri": "https://localhost:8080/",
          "height": 289
        },
        "id": "aPOwc4wAaASj",
        "outputId": "ffa77742-0995-4378-cbe8-dc44fc5de6f8"
      },
      "source": [
        "# deleting the outlier for better age rule as many people (half, according to survey) if they are under 25, most likely to finish their undergrad around 48 months\n",
        "\n",
        "outlier_education_idx = undergrad_education[undergrad_education['education_duration_years']>5].index\n",
        "undergrad_education.drop(outlier_education_idx, inplace=True)\n",
        "undergrad_education.head()"
      ],
      "execution_count": null,
      "outputs": [
        {
          "output_type": "stream",
          "text": [
            "/usr/local/lib/python3.7/dist-packages/pandas/core/frame.py:4174: SettingWithCopyWarning: \n",
            "A value is trying to be set on a copy of a slice from a DataFrame\n",
            "\n",
            "See the caveats in the documentation: https://pandas.pydata.org/pandas-docs/stable/user_guide/indexing.html#returning-a-view-versus-a-copy\n",
            "  errors=errors,\n"
          ],
          "name": "stderr"
        },
        {
          "output_type": "execute_result",
          "data": {
            "text/html": [
              "<div>\n",
              "<style scoped>\n",
              "    .dataframe tbody tr th:only-of-type {\n",
              "        vertical-align: middle;\n",
              "    }\n",
              "\n",
              "    .dataframe tbody tr th {\n",
              "        vertical-align: top;\n",
              "    }\n",
              "\n",
              "    .dataframe thead th {\n",
              "        text-align: right;\n",
              "    }\n",
              "</style>\n",
              "<table border=\"1\" class=\"dataframe\">\n",
              "  <thead>\n",
              "    <tr style=\"text-align: right;\">\n",
              "      <th></th>\n",
              "      <th>user_id</th>\n",
              "      <th>major</th>\n",
              "      <th>startdate</th>\n",
              "      <th>enddate</th>\n",
              "      <th>educaton_duration_days</th>\n",
              "      <th>education_duration_years</th>\n",
              "      <th>Normalized_major</th>\n",
              "    </tr>\n",
              "  </thead>\n",
              "  <tbody>\n",
              "    <tr>\n",
              "      <th>8</th>\n",
              "      <td>shgvmeKu1Kqqi5LFqdMXsA5+2cvffV/mNepQVJd0smgtpB...</td>\n",
              "      <td>BA</td>\n",
              "      <td>2008-01-01</td>\n",
              "      <td>2012-01-01</td>\n",
              "      <td>1461 days</td>\n",
              "      <td>4.000082</td>\n",
              "      <td>Bachelors</td>\n",
              "    </tr>\n",
              "    <tr>\n",
              "      <th>10</th>\n",
              "      <td>shgvmeKu1Kqqi5LFqdMXsA5+2cvffV/mNepQVJd0smgtpB...</td>\n",
              "      <td>BA</td>\n",
              "      <td>2008-01-01</td>\n",
              "      <td>2012-01-01</td>\n",
              "      <td>1461 days</td>\n",
              "      <td>4.000082</td>\n",
              "      <td>Bachelors</td>\n",
              "    </tr>\n",
              "    <tr>\n",
              "      <th>14</th>\n",
              "      <td>ChHu2phrrJ6TeTC/TrwnCA4ZM3TcQvn1bQ/jHgHWG0kf/b...</td>\n",
              "      <td>Bachelor of Science (BSc)</td>\n",
              "      <td>1980-01-01</td>\n",
              "      <td>1983-01-01</td>\n",
              "      <td>1096 days</td>\n",
              "      <td>3.000746</td>\n",
              "      <td>Bachelors</td>\n",
              "    </tr>\n",
              "    <tr>\n",
              "      <th>22</th>\n",
              "      <td>sNbHs3DTxv39myeCZxs3SQ4ZM3TcQvn1bQ/jHgHWG0kf/b...</td>\n",
              "      <td>BS</td>\n",
              "      <td>1998-01-01</td>\n",
              "      <td>2001-01-01</td>\n",
              "      <td>1096 days</td>\n",
              "      <td>3.000746</td>\n",
              "      <td>Bachelors</td>\n",
              "    </tr>\n",
              "    <tr>\n",
              "      <th>34</th>\n",
              "      <td>C8rLGp6IjTIYvv6XWHahWQ4ZM3TcQvn1bQ/jHgHWG0kf/b...</td>\n",
              "      <td>B.A.</td>\n",
              "      <td>2007-01-01</td>\n",
              "      <td>2011-01-01</td>\n",
              "      <td>1461 days</td>\n",
              "      <td>4.000082</td>\n",
              "      <td>Bachelors</td>\n",
              "    </tr>\n",
              "  </tbody>\n",
              "</table>\n",
              "</div>"
            ],
            "text/plain": [
              "                                              user_id  ... Normalized_major\n",
              "8   shgvmeKu1Kqqi5LFqdMXsA5+2cvffV/mNepQVJd0smgtpB...  ...        Bachelors\n",
              "10  shgvmeKu1Kqqi5LFqdMXsA5+2cvffV/mNepQVJd0smgtpB...  ...        Bachelors\n",
              "14  ChHu2phrrJ6TeTC/TrwnCA4ZM3TcQvn1bQ/jHgHWG0kf/b...  ...        Bachelors\n",
              "22  sNbHs3DTxv39myeCZxs3SQ4ZM3TcQvn1bQ/jHgHWG0kf/b...  ...        Bachelors\n",
              "34  C8rLGp6IjTIYvv6XWHahWQ4ZM3TcQvn1bQ/jHgHWG0kf/b...  ...        Bachelors\n",
              "\n",
              "[5 rows x 7 columns]"
            ]
          },
          "metadata": {
            "tags": []
          },
          "execution_count": 32
        }
      ]
    },
    {
      "cell_type": "code",
      "metadata": {
        "colab": {
          "base_uri": "https://localhost:8080/"
        },
        "id": "kZKy8fGRa-ps",
        "outputId": "1c532aa1-6fae-4863-dc7a-8b9f8c745234"
      },
      "source": [
        "undergrad_education.info()"
      ],
      "execution_count": null,
      "outputs": [
        {
          "output_type": "stream",
          "text": [
            "<class 'pandas.core.frame.DataFrame'>\n",
            "Int64Index: 38123 entries, 8 to 226157\n",
            "Data columns (total 7 columns):\n",
            " #   Column                    Non-Null Count  Dtype          \n",
            "---  ------                    --------------  -----          \n",
            " 0   user_id                   38123 non-null  object         \n",
            " 1   major                     38123 non-null  object         \n",
            " 2   startdate                 33103 non-null  object         \n",
            " 3   enddate                   32486 non-null  object         \n",
            " 4   educaton_duration_days    32082 non-null  timedelta64[ns]\n",
            " 5   education_duration_years  32082 non-null  float64        \n",
            " 6   Normalized_major          38123 non-null  object         \n",
            "dtypes: float64(1), object(5), timedelta64[ns](1)\n",
            "memory usage: 3.6+ MB\n"
          ],
          "name": "stdout"
        }
      ]
    },
    {
      "cell_type": "markdown",
      "metadata": {
        "id": "r6zE9meqTeEP"
      },
      "source": [
        "### Age calculation: creating time difference from today and adding 18"
      ]
    },
    {
      "cell_type": "code",
      "metadata": {
        "colab": {
          "base_uri": "https://localhost:8080/",
          "height": 751
        },
        "id": "ikypY7yTaDf5",
        "outputId": "5e5efbbd-4b85-4be5-9dc6-8e0fcb928322"
      },
      "source": [
        "undergrad_education[\"current_date\"] = datetime.datetime.now().date()\n",
        "undergrad_education[\"Age\"] = pd.to_datetime(undergrad_education[\"current_date\"]) - pd.to_datetime(undergrad_education['startdate'])\n",
        "undergrad_education[\"Age\"] = undergrad_education['Age'] / np.timedelta64(1, 'Y')\n",
        "undergrad_education['Age'] = undergrad_education['Age'] +18\n",
        "undergrad_education.head()\n"
      ],
      "execution_count": null,
      "outputs": [
        {
          "output_type": "stream",
          "text": [
            "/usr/local/lib/python3.7/dist-packages/ipykernel_launcher.py:1: SettingWithCopyWarning: \n",
            "A value is trying to be set on a copy of a slice from a DataFrame.\n",
            "Try using .loc[row_indexer,col_indexer] = value instead\n",
            "\n",
            "See the caveats in the documentation: https://pandas.pydata.org/pandas-docs/stable/user_guide/indexing.html#returning-a-view-versus-a-copy\n",
            "  \"\"\"Entry point for launching an IPython kernel.\n",
            "/usr/local/lib/python3.7/dist-packages/ipykernel_launcher.py:2: SettingWithCopyWarning: \n",
            "A value is trying to be set on a copy of a slice from a DataFrame.\n",
            "Try using .loc[row_indexer,col_indexer] = value instead\n",
            "\n",
            "See the caveats in the documentation: https://pandas.pydata.org/pandas-docs/stable/user_guide/indexing.html#returning-a-view-versus-a-copy\n",
            "  \n",
            "/usr/local/lib/python3.7/dist-packages/ipykernel_launcher.py:3: SettingWithCopyWarning: \n",
            "A value is trying to be set on a copy of a slice from a DataFrame.\n",
            "Try using .loc[row_indexer,col_indexer] = value instead\n",
            "\n",
            "See the caveats in the documentation: https://pandas.pydata.org/pandas-docs/stable/user_guide/indexing.html#returning-a-view-versus-a-copy\n",
            "  This is separate from the ipykernel package so we can avoid doing imports until\n",
            "/usr/local/lib/python3.7/dist-packages/ipykernel_launcher.py:4: SettingWithCopyWarning: \n",
            "A value is trying to be set on a copy of a slice from a DataFrame.\n",
            "Try using .loc[row_indexer,col_indexer] = value instead\n",
            "\n",
            "See the caveats in the documentation: https://pandas.pydata.org/pandas-docs/stable/user_guide/indexing.html#returning-a-view-versus-a-copy\n",
            "  after removing the cwd from sys.path.\n"
          ],
          "name": "stderr"
        },
        {
          "output_type": "execute_result",
          "data": {
            "text/html": [
              "<div>\n",
              "<style scoped>\n",
              "    .dataframe tbody tr th:only-of-type {\n",
              "        vertical-align: middle;\n",
              "    }\n",
              "\n",
              "    .dataframe tbody tr th {\n",
              "        vertical-align: top;\n",
              "    }\n",
              "\n",
              "    .dataframe thead th {\n",
              "        text-align: right;\n",
              "    }\n",
              "</style>\n",
              "<table border=\"1\" class=\"dataframe\">\n",
              "  <thead>\n",
              "    <tr style=\"text-align: right;\">\n",
              "      <th></th>\n",
              "      <th>user_id</th>\n",
              "      <th>major</th>\n",
              "      <th>startdate</th>\n",
              "      <th>enddate</th>\n",
              "      <th>educaton_duration_days</th>\n",
              "      <th>education_duration_years</th>\n",
              "      <th>Normalized_major</th>\n",
              "      <th>current_date</th>\n",
              "      <th>Age</th>\n",
              "    </tr>\n",
              "  </thead>\n",
              "  <tbody>\n",
              "    <tr>\n",
              "      <th>8</th>\n",
              "      <td>shgvmeKu1Kqqi5LFqdMXsA5+2cvffV/mNepQVJd0smgtpB...</td>\n",
              "      <td>BA</td>\n",
              "      <td>2008-01-01</td>\n",
              "      <td>2012-01-01</td>\n",
              "      <td>1461 days</td>\n",
              "      <td>4.000082</td>\n",
              "      <td>Bachelors</td>\n",
              "      <td>2021-05-05</td>\n",
              "      <td>31.341821</td>\n",
              "    </tr>\n",
              "    <tr>\n",
              "      <th>10</th>\n",
              "      <td>shgvmeKu1Kqqi5LFqdMXsA5+2cvffV/mNepQVJd0smgtpB...</td>\n",
              "      <td>BA</td>\n",
              "      <td>2008-01-01</td>\n",
              "      <td>2012-01-01</td>\n",
              "      <td>1461 days</td>\n",
              "      <td>4.000082</td>\n",
              "      <td>Bachelors</td>\n",
              "      <td>2021-05-05</td>\n",
              "      <td>31.341821</td>\n",
              "    </tr>\n",
              "    <tr>\n",
              "      <th>14</th>\n",
              "      <td>ChHu2phrrJ6TeTC/TrwnCA4ZM3TcQvn1bQ/jHgHWG0kf/b...</td>\n",
              "      <td>Bachelor of Science (BSc)</td>\n",
              "      <td>1980-01-01</td>\n",
              "      <td>1983-01-01</td>\n",
              "      <td>1096 days</td>\n",
              "      <td>3.000746</td>\n",
              "      <td>Bachelors</td>\n",
              "      <td>2021-05-05</td>\n",
              "      <td>59.342396</td>\n",
              "    </tr>\n",
              "    <tr>\n",
              "      <th>22</th>\n",
              "      <td>sNbHs3DTxv39myeCZxs3SQ4ZM3TcQvn1bQ/jHgHWG0kf/b...</td>\n",
              "      <td>BS</td>\n",
              "      <td>1998-01-01</td>\n",
              "      <td>2001-01-01</td>\n",
              "      <td>1096 days</td>\n",
              "      <td>3.000746</td>\n",
              "      <td>Bachelors</td>\n",
              "      <td>2021-05-05</td>\n",
              "      <td>41.340657</td>\n",
              "    </tr>\n",
              "    <tr>\n",
              "      <th>34</th>\n",
              "      <td>C8rLGp6IjTIYvv6XWHahWQ4ZM3TcQvn1bQ/jHgHWG0kf/b...</td>\n",
              "      <td>B.A.</td>\n",
              "      <td>2007-01-01</td>\n",
              "      <td>2011-01-01</td>\n",
              "      <td>1461 days</td>\n",
              "      <td>4.000082</td>\n",
              "      <td>Bachelors</td>\n",
              "      <td>2021-05-05</td>\n",
              "      <td>32.341157</td>\n",
              "    </tr>\n",
              "  </tbody>\n",
              "</table>\n",
              "</div>"
            ],
            "text/plain": [
              "                                              user_id  ...        Age\n",
              "8   shgvmeKu1Kqqi5LFqdMXsA5+2cvffV/mNepQVJd0smgtpB...  ...  31.341821\n",
              "10  shgvmeKu1Kqqi5LFqdMXsA5+2cvffV/mNepQVJd0smgtpB...  ...  31.341821\n",
              "14  ChHu2phrrJ6TeTC/TrwnCA4ZM3TcQvn1bQ/jHgHWG0kf/b...  ...  59.342396\n",
              "22  sNbHs3DTxv39myeCZxs3SQ4ZM3TcQvn1bQ/jHgHWG0kf/b...  ...  41.340657\n",
              "34  C8rLGp6IjTIYvv6XWHahWQ4ZM3TcQvn1bQ/jHgHWG0kf/b...  ...  32.341157\n",
              "\n",
              "[5 rows x 9 columns]"
            ]
          },
          "metadata": {
            "tags": []
          },
          "execution_count": 34
        }
      ]
    },
    {
      "cell_type": "code",
      "metadata": {
        "colab": {
          "base_uri": "https://localhost:8080/"
        },
        "id": "1eaNFEbedrDN",
        "outputId": "50e77538-b9fe-4e6c-8cba-c627e18579d3"
      },
      "source": [
        "undergrad_education['user_id'].describe()\n"
      ],
      "execution_count": null,
      "outputs": [
        {
          "output_type": "execute_result",
          "data": {
            "text/plain": [
              "count                                                 38123\n",
              "unique                                                33816\n",
              "top       4T6QXP5mgAzEcVIb/3BruA4ZM3TcQvn1bQ/jHgHWG0kf/b...\n",
              "freq                                                      8\n",
              "Name: user_id, dtype: object"
            ]
          },
          "metadata": {
            "tags": []
          },
          "execution_count": 37
        }
      ]
    },
    {
      "cell_type": "markdown",
      "metadata": {
        "id": "4ykP3SrIUB9P"
      },
      "source": [
        "38k data point with 33k almost unique users, which will serve as out input data for grount truth age.\n",
        "I will merge them with position and seniority data set to get external features and build the regression model for age prediction"
      ]
    },
    {
      "cell_type": "markdown",
      "metadata": {
        "id": "1J0VwcaJPZ5Z"
      },
      "source": [
        "#  Data Exploration Analysis For position description dataset"
      ]
    },
    {
      "cell_type": "markdown",
      "metadata": {
        "id": "IKiq7fMlPZ5b"
      },
      "source": [
        "calculating the days and years of experience for each instance by subtractive enddate with startdate."
      ]
    },
    {
      "cell_type": "code",
      "metadata": {
        "colab": {
          "base_uri": "https://localhost:8080/",
          "height": 819
        },
        "id": "URYd7XPTPZ5b",
        "outputId": "c20707ec-faec-4583-c74c-685e296fc795"
      },
      "source": [
        "positions_descriptions_df['job_duration_days'] = pd.to_datetime(positions_descriptions_df['enddate'])- pd.to_datetime(positions_descriptions_df['startdate'])\n",
        "positions_descriptions_df['job_duration_years'] = positions_descriptions_df['job_duration_days'] / np.timedelta64(1, 'Y')\n",
        "print(positions_descriptions_df.info())\n",
        "positions_descriptions_df.head()"
      ],
      "execution_count": null,
      "outputs": [
        {
          "output_type": "stream",
          "text": [
            "<class 'pandas.core.frame.DataFrame'>\n",
            "RangeIndex: 377746 entries, 0 to 377745\n",
            "Data columns (total 8 columns):\n",
            " #   Column              Non-Null Count   Dtype          \n",
            "---  ------              --------------   -----          \n",
            " 0   Unnamed: 0          377746 non-null  int64          \n",
            " 1   user_id             377746 non-null  object         \n",
            " 2   jobtitle            376297 non-null  object         \n",
            " 3   startdate           368687 non-null  object         \n",
            " 4   enddate             270515 non-null  object         \n",
            " 5   description         22247 non-null   object         \n",
            " 6   job_duration_days   270466 non-null  timedelta64[ns]\n",
            " 7   job_duration_years  270466 non-null  float64        \n",
            "dtypes: float64(1), int64(1), object(5), timedelta64[ns](1)\n",
            "memory usage: 23.1+ MB\n",
            "None\n"
          ],
          "name": "stdout"
        },
        {
          "output_type": "execute_result",
          "data": {
            "text/html": [
              "<div>\n",
              "<style scoped>\n",
              "    .dataframe tbody tr th:only-of-type {\n",
              "        vertical-align: middle;\n",
              "    }\n",
              "\n",
              "    .dataframe tbody tr th {\n",
              "        vertical-align: top;\n",
              "    }\n",
              "\n",
              "    .dataframe thead th {\n",
              "        text-align: right;\n",
              "    }\n",
              "</style>\n",
              "<table border=\"1\" class=\"dataframe\">\n",
              "  <thead>\n",
              "    <tr style=\"text-align: right;\">\n",
              "      <th></th>\n",
              "      <th>Unnamed: 0</th>\n",
              "      <th>user_id</th>\n",
              "      <th>jobtitle</th>\n",
              "      <th>startdate</th>\n",
              "      <th>enddate</th>\n",
              "      <th>description</th>\n",
              "      <th>job_duration_days</th>\n",
              "      <th>job_duration_years</th>\n",
              "    </tr>\n",
              "  </thead>\n",
              "  <tbody>\n",
              "    <tr>\n",
              "      <th>0</th>\n",
              "      <td>0</td>\n",
              "      <td>xPnF8aBtmVHMUJgXu4FhFQ4ZM3TcQvn1bQ/jHgHWG0kf/b...</td>\n",
              "      <td>manager_|_retail</td>\n",
              "      <td>1993-01-01</td>\n",
              "      <td>1999-01-01</td>\n",
              "      <td>Customer Service|Sales Manager with expertise ...</td>\n",
              "      <td>2191 days</td>\n",
              "      <td>5.998754</td>\n",
              "    </tr>\n",
              "    <tr>\n",
              "      <th>1</th>\n",
              "      <td>1</td>\n",
              "      <td>cSSpv5DU46Epq7jLKmHDYQ5+2cvffV/mNepQVJd0smgtpB...</td>\n",
              "      <td>consultant</td>\n",
              "      <td>2017-09-01</td>\n",
              "      <td>2017-12-01</td>\n",
              "      <td>• Analyzed current marketing strategy for loca...</td>\n",
              "      <td>91 days</td>\n",
              "      <td>0.249150</td>\n",
              "    </tr>\n",
              "    <tr>\n",
              "      <th>2</th>\n",
              "      <td>2</td>\n",
              "      <td>kTlIZZU3vXt4Q90RzMQUAQ5+2cvffV/mNepQVJd0smgtpB...</td>\n",
              "      <td>gmac</td>\n",
              "      <td>1995-08-01</td>\n",
              "      <td>1996-06-01</td>\n",
              "      <td>Gestión de Cartera entre 30 60 y 90 días de mora</td>\n",
              "      <td>305 days</td>\n",
              "      <td>0.835062</td>\n",
              "    </tr>\n",
              "    <tr>\n",
              "      <th>3</th>\n",
              "      <td>3</td>\n",
              "      <td>qHioGzN4ZvCgR+5MtGt7mw5+2cvffV/mNepQVJd0smgtpB...</td>\n",
              "      <td>research_collaborator_|_civil_engineering</td>\n",
              "      <td>2007-10-01</td>\n",
              "      <td>2008-01-01</td>\n",
              "      <td>Developer of real time operating systems as di...</td>\n",
              "      <td>92 days</td>\n",
              "      <td>0.251887</td>\n",
              "    </tr>\n",
              "    <tr>\n",
              "      <th>4</th>\n",
              "      <td>4</td>\n",
              "      <td>AXh20t4URiK2Xnt1sKGyjQ5+2cvffV/mNepQVJd0smgtpB...</td>\n",
              "      <td>account_manager</td>\n",
              "      <td>2013-08-01</td>\n",
              "      <td>2013-12-01</td>\n",
              "      <td>Account manager, events coordinator. Managemen...</td>\n",
              "      <td>122 days</td>\n",
              "      <td>0.334025</td>\n",
              "    </tr>\n",
              "  </tbody>\n",
              "</table>\n",
              "</div>"
            ],
            "text/plain": [
              "   Unnamed: 0  ... job_duration_years\n",
              "0           0  ...           5.998754\n",
              "1           1  ...           0.249150\n",
              "2           2  ...           0.835062\n",
              "3           3  ...           0.251887\n",
              "4           4  ...           0.334025\n",
              "\n",
              "[5 rows x 8 columns]"
            ]
          },
          "metadata": {
            "tags": []
          },
          "execution_count": 38
        }
      ]
    },
    {
      "cell_type": "markdown",
      "metadata": {
        "id": "JXu0b8r1ceKN"
      },
      "source": [
        "### Removing negative experience and super high experience "
      ]
    },
    {
      "cell_type": "code",
      "metadata": {
        "colab": {
          "base_uri": "https://localhost:8080/",
          "height": 722
        },
        "id": "UV3L4USTPZ5d",
        "outputId": "8ab21de0-91cd-415d-885e-fb293829e967"
      },
      "source": [
        "Negative_exp = positions_descriptions_df[positions_descriptions_df['job_duration_years']<0]\n",
        "print(Negative_exp.info())\n",
        "Negative_exp= Negative_exp.groupby(['user_id','jobtitle','job_duration_years']).sum()\n",
        "Negative_exp"
      ],
      "execution_count": null,
      "outputs": [
        {
          "output_type": "stream",
          "text": [
            "<class 'pandas.core.frame.DataFrame'>\n",
            "Int64Index: 1255 entries, 802 to 377195\n",
            "Data columns (total 8 columns):\n",
            " #   Column              Non-Null Count  Dtype          \n",
            "---  ------              --------------  -----          \n",
            " 0   Unnamed: 0          1255 non-null   int64          \n",
            " 1   user_id             1255 non-null   object         \n",
            " 2   jobtitle            1253 non-null   object         \n",
            " 3   startdate           1255 non-null   object         \n",
            " 4   enddate             1255 non-null   object         \n",
            " 5   description         50 non-null     object         \n",
            " 6   job_duration_days   1255 non-null   timedelta64[ns]\n",
            " 7   job_duration_years  1255 non-null   float64        \n",
            "dtypes: float64(1), int64(1), object(5), timedelta64[ns](1)\n",
            "memory usage: 88.2+ KB\n",
            "None\n"
          ],
          "name": "stdout"
        },
        {
          "output_type": "execute_result",
          "data": {
            "text/html": [
              "<div>\n",
              "<style scoped>\n",
              "    .dataframe tbody tr th:only-of-type {\n",
              "        vertical-align: middle;\n",
              "    }\n",
              "\n",
              "    .dataframe tbody tr th {\n",
              "        vertical-align: top;\n",
              "    }\n",
              "\n",
              "    .dataframe thead th {\n",
              "        text-align: right;\n",
              "    }\n",
              "</style>\n",
              "<table border=\"1\" class=\"dataframe\">\n",
              "  <thead>\n",
              "    <tr style=\"text-align: right;\">\n",
              "      <th></th>\n",
              "      <th></th>\n",
              "      <th></th>\n",
              "      <th>Unnamed: 0</th>\n",
              "    </tr>\n",
              "    <tr>\n",
              "      <th>user_id</th>\n",
              "      <th>jobtitle</th>\n",
              "      <th>job_duration_years</th>\n",
              "      <th></th>\n",
              "    </tr>\n",
              "  </thead>\n",
              "  <tbody>\n",
              "    <tr>\n",
              "      <th rowspan=\"2\" valign=\"top\">+/sKHm1rOxwYZQ0hgpicOg5+2cvffV/mNepQVJd0smgtpBr4MGMFJQ==</th>\n",
              "      <th>violinist</th>\n",
              "      <th>-20.328960</th>\n",
              "      <td>222748</td>\n",
              "    </tr>\n",
              "    <tr>\n",
              "      <th>violinist_|_music</th>\n",
              "      <th>-7.748277</th>\n",
              "      <td>225932</td>\n",
              "    </tr>\n",
              "    <tr>\n",
              "      <th>+0Hqf0uBmhMn0bb4nCA4vA5+2cvffV/mNepQVJd0smgtpBr4MGMFJQ==</th>\n",
              "      <th>trainee_import_dept</th>\n",
              "      <th>-0.164274</th>\n",
              "      <td>198556</td>\n",
              "    </tr>\n",
              "    <tr>\n",
              "      <th>+6D3+oNzUCLpgMtCj9mlTg5+2cvffV/mNepQVJd0smgtpBr4MGMFJQ==</th>\n",
              "      <th>production_manager_china</th>\n",
              "      <th>-3.750933</th>\n",
              "      <td>52840</td>\n",
              "    </tr>\n",
              "    <tr>\n",
              "      <th>+6DXfuKpB1lJnvSWZMkqDQ4ZM3TcQvn1bQ/jHgHWG0kf/bHrn17MPg==</th>\n",
              "      <th>general_partner</th>\n",
              "      <th>-19.001075</th>\n",
              "      <td>257763</td>\n",
              "    </tr>\n",
              "    <tr>\n",
              "      <th>...</th>\n",
              "      <th>...</th>\n",
              "      <th>...</th>\n",
              "      <td>...</td>\n",
              "    </tr>\n",
              "    <tr>\n",
              "      <th>zsbtkW2agusv6dopSFkTeQ5+2cvffV/mNepQVJd0smgtpBr4MGMFJQ==</th>\n",
              "      <th>alumni_relations_intern_|_higher_education</th>\n",
              "      <th>-18.001739</th>\n",
              "      <td>186331</td>\n",
              "    </tr>\n",
              "    <tr>\n",
              "      <th>zuBoOOPgKvSGMJcT+GosmQ5+2cvffV/mNepQVJd0smgtpBr4MGMFJQ==</th>\n",
              "      <th>actuarial_assistant_|_financial_services</th>\n",
              "      <th>-9.166513</th>\n",
              "      <td>255244</td>\n",
              "    </tr>\n",
              "    <tr>\n",
              "      <th>zujT4iSF+bZbxO8lX6lgmQ4ZM3TcQvn1bQ/jHgHWG0kf/bHrn17MPg==</th>\n",
              "      <th>director_sales_marketing_north_america</th>\n",
              "      <th>-12.750433</th>\n",
              "      <td>248796</td>\n",
              "    </tr>\n",
              "    <tr>\n",
              "      <th>zvMkf7CLwvlU44m/mYVlSJ/joSTLo5hZbQ/jHgHWG0kf/bHrn17MPg==</th>\n",
              "      <th>english_teacher</th>\n",
              "      <th>-0.914461</th>\n",
              "      <td>114442</td>\n",
              "    </tr>\n",
              "    <tr>\n",
              "      <th>zvYpaNz5ckuTYtXi0CM8sQ5+2cvffV/mNepQVJd0smgtpBr4MGMFJQ==</th>\n",
              "      <th>registered_nurse</th>\n",
              "      <th>-6.497053</th>\n",
              "      <td>298985</td>\n",
              "    </tr>\n",
              "  </tbody>\n",
              "</table>\n",
              "<p>1253 rows × 1 columns</p>\n",
              "</div>"
            ],
            "text/plain": [
              "                                                                                                                  Unnamed: 0\n",
              "user_id                                            jobtitle                                   job_duration_years            \n",
              "+/sKHm1rOxwYZQ0hgpicOg5+2cvffV/mNepQVJd0smgtpBr... violinist                                  -20.328960              222748\n",
              "                                                   violinist_|_music                          -7.748277               225932\n",
              "+0Hqf0uBmhMn0bb4nCA4vA5+2cvffV/mNepQVJd0smgtpBr... trainee_import_dept                        -0.164274               198556\n",
              "+6D3+oNzUCLpgMtCj9mlTg5+2cvffV/mNepQVJd0smgtpBr... production_manager_china                   -3.750933                52840\n",
              "+6DXfuKpB1lJnvSWZMkqDQ4ZM3TcQvn1bQ/jHgHWG0kf/bH... general_partner                            -19.001075              257763\n",
              "...                                                                                                                      ...\n",
              "zsbtkW2agusv6dopSFkTeQ5+2cvffV/mNepQVJd0smgtpBr... alumni_relations_intern_|_higher_education -18.001739              186331\n",
              "zuBoOOPgKvSGMJcT+GosmQ5+2cvffV/mNepQVJd0smgtpBr... actuarial_assistant_|_financial_services   -9.166513               255244\n",
              "zujT4iSF+bZbxO8lX6lgmQ4ZM3TcQvn1bQ/jHgHWG0kf/bH... director_sales_marketing_north_america     -12.750433              248796\n",
              "zvMkf7CLwvlU44m/mYVlSJ/joSTLo5hZbQ/jHgHWG0kf/bH... english_teacher                            -0.914461               114442\n",
              "zvYpaNz5ckuTYtXi0CM8sQ5+2cvffV/mNepQVJd0smgtpBr... registered_nurse                           -6.497053               298985\n",
              "\n",
              "[1253 rows x 1 columns]"
            ]
          },
          "metadata": {
            "tags": []
          },
          "execution_count": 39
        }
      ]
    },
    {
      "cell_type": "markdown",
      "metadata": {
        "id": "hZp6x0XQPZ5d"
      },
      "source": [
        "1255 instances (1253 users) have negative years exprerience, it could be either mistakely flipped start/end date or wrong values. I can either delete it or take mod of these values to avoid inconsistenties in suture sum operation.\n",
        "I am gonna delete them for now. "
      ]
    },
    {
      "cell_type": "code",
      "metadata": {
        "id": "JcsoShGuPZ5e"
      },
      "source": [
        "#Deleting the negative years of experience\n",
        "Negative_exp = positions_descriptions_df[positions_descriptions_df['job_duration_years']<0].index\n",
        "\n",
        "positions_descriptions_df.drop(Negative_exp, inplace=True)\n"
      ],
      "execution_count": null,
      "outputs": []
    },
    {
      "cell_type": "code",
      "metadata": {
        "colab": {
          "base_uri": "https://localhost:8080/",
          "height": 722
        },
        "id": "j-dNi3cbPZ5e",
        "outputId": "1491d8aa-6df7-41b5-bb1c-9fa4852885fe"
      },
      "source": [
        "super_exp = positions_descriptions_df[positions_descriptions_df['job_duration_years']>40]\n",
        "print(super_exp.info())\n",
        "super_exp= super_exp.groupby(['user_id','jobtitle','job_duration_years']).sum()\n",
        "super_exp"
      ],
      "execution_count": null,
      "outputs": [
        {
          "output_type": "stream",
          "text": [
            "<class 'pandas.core.frame.DataFrame'>\n",
            "Int64Index: 85 entries, 2682 to 370649\n",
            "Data columns (total 8 columns):\n",
            " #   Column              Non-Null Count  Dtype          \n",
            "---  ------              --------------  -----          \n",
            " 0   Unnamed: 0          85 non-null     int64          \n",
            " 1   user_id             85 non-null     object         \n",
            " 2   jobtitle            85 non-null     object         \n",
            " 3   startdate           85 non-null     object         \n",
            " 4   enddate             85 non-null     object         \n",
            " 5   description         3 non-null      object         \n",
            " 6   job_duration_days   85 non-null     timedelta64[ns]\n",
            " 7   job_duration_years  85 non-null     float64        \n",
            "dtypes: float64(1), int64(1), object(5), timedelta64[ns](1)\n",
            "memory usage: 6.0+ KB\n",
            "None\n"
          ],
          "name": "stdout"
        },
        {
          "output_type": "execute_result",
          "data": {
            "text/html": [
              "<div>\n",
              "<style scoped>\n",
              "    .dataframe tbody tr th:only-of-type {\n",
              "        vertical-align: middle;\n",
              "    }\n",
              "\n",
              "    .dataframe tbody tr th {\n",
              "        vertical-align: top;\n",
              "    }\n",
              "\n",
              "    .dataframe thead th {\n",
              "        text-align: right;\n",
              "    }\n",
              "</style>\n",
              "<table border=\"1\" class=\"dataframe\">\n",
              "  <thead>\n",
              "    <tr style=\"text-align: right;\">\n",
              "      <th></th>\n",
              "      <th></th>\n",
              "      <th></th>\n",
              "      <th>Unnamed: 0</th>\n",
              "    </tr>\n",
              "    <tr>\n",
              "      <th>user_id</th>\n",
              "      <th>jobtitle</th>\n",
              "      <th>job_duration_years</th>\n",
              "      <th></th>\n",
              "    </tr>\n",
              "  </thead>\n",
              "  <tbody>\n",
              "    <tr>\n",
              "      <th>+brlwswF32W6B4DHJJ5IJA5+2cvffV/mNepQVJd0smgtpBr4MGMFJQ==</th>\n",
              "      <th>iraq_baghdad</th>\n",
              "      <th>49.082459</th>\n",
              "      <td>78134</td>\n",
              "    </tr>\n",
              "    <tr>\n",
              "      <th>+iLwd1Amya17KUNjajC18g5+2cvffV/mNepQVJd0smgtpBr4MGMFJQ==</th>\n",
              "      <th>manufecturer</th>\n",
              "      <th>45.999576</th>\n",
              "      <td>256215</td>\n",
              "    </tr>\n",
              "    <tr>\n",
              "      <th>/waL+L+8GSGlGPJFHwxaaA4ZM3TcQvn1bQ/jHgHWG0kf/bHrn17MPg==</th>\n",
              "      <th>social_work_consultant</th>\n",
              "      <th>40.000821</th>\n",
              "      <td>14190</td>\n",
              "    </tr>\n",
              "    <tr>\n",
              "      <th>0CvARjIMR1sJhwV3evqFm3AG1BvSkUYANepQVJd0smgtpBr4MGMFJQ==</th>\n",
              "      <th>test_engineer_|_information_technology_services</th>\n",
              "      <th>47.415074</th>\n",
              "      <td>253313</td>\n",
              "    </tr>\n",
              "    <tr>\n",
              "      <th>0ZW4V6mpSBSB1fznSbdlzA4ZM3TcQvn1bQ/jHgHWG0kf/bHrn17MPg==</th>\n",
              "      <th>president</th>\n",
              "      <th>44.000904</th>\n",
              "      <td>358692</td>\n",
              "    </tr>\n",
              "    <tr>\n",
              "      <th>...</th>\n",
              "      <th>...</th>\n",
              "      <th>...</th>\n",
              "      <td>...</td>\n",
              "    </tr>\n",
              "    <tr>\n",
              "      <th>xZhaI5uY52LnB6Hxsjf72Q5+2cvffV/mNepQVJd0smgtpBr4MGMFJQ==</th>\n",
              "      <th>designer</th>\n",
              "      <th>95.917096</th>\n",
              "      <td>228227</td>\n",
              "    </tr>\n",
              "    <tr>\n",
              "      <th>y3iWOO5tHgjOqZvYUKrdDA5+2cvffV/mNepQVJd0smgtpBr4MGMFJQ==</th>\n",
              "      <th>escuela_vocacional_de_la_universidad_de_guadalajara</th>\n",
              "      <th>41.999493</th>\n",
              "      <td>274623</td>\n",
              "    </tr>\n",
              "    <tr>\n",
              "      <th>yH+W144rewXExDwoahQCCA4ZM3TcQvn1bQ/jHgHWG0kf/bHrn17MPg==</th>\n",
              "      <th>bar</th>\n",
              "      <th>57.999822</th>\n",
              "      <td>27385</td>\n",
              "    </tr>\n",
              "    <tr>\n",
              "      <th>yR1mRCbCB6iluTtFID4LPg5+2cvffV/mNepQVJd0smgtpBr4MGMFJQ==</th>\n",
              "      <th>graphic_art_designer</th>\n",
              "      <th>88.916268</th>\n",
              "      <td>8544</td>\n",
              "    </tr>\n",
              "    <tr>\n",
              "      <th>yXxkD2O8IoEPj9OtbUR/ZA5+2cvffV/mNepQVJd0smgtpBr4MGMFJQ==</th>\n",
              "      <th>начальник_конструкторского_бюро</th>\n",
              "      <th>44.838703</th>\n",
              "      <td>14854</td>\n",
              "    </tr>\n",
              "  </tbody>\n",
              "</table>\n",
              "<p>85 rows × 1 columns</p>\n",
              "</div>"
            ],
            "text/plain": [
              "                                                                                                                          Unnamed: 0\n",
              "user_id                                            jobtitle                                           job_duration_years            \n",
              "+brlwswF32W6B4DHJJ5IJA5+2cvffV/mNepQVJd0smgtpBr... iraq_baghdad                                       49.082459                78134\n",
              "+iLwd1Amya17KUNjajC18g5+2cvffV/mNepQVJd0smgtpBr... manufecturer                                       45.999576               256215\n",
              "/waL+L+8GSGlGPJFHwxaaA4ZM3TcQvn1bQ/jHgHWG0kf/bH... social_work_consultant                             40.000821                14190\n",
              "0CvARjIMR1sJhwV3evqFm3AG1BvSkUYANepQVJd0smgtpBr... test_engineer_|_information_technology_services    47.415074               253313\n",
              "0ZW4V6mpSBSB1fznSbdlzA4ZM3TcQvn1bQ/jHgHWG0kf/bH... president                                          44.000904               358692\n",
              "...                                                                                                                              ...\n",
              "xZhaI5uY52LnB6Hxsjf72Q5+2cvffV/mNepQVJd0smgtpBr... designer                                           95.917096               228227\n",
              "y3iWOO5tHgjOqZvYUKrdDA5+2cvffV/mNepQVJd0smgtpBr... escuela_vocacional_de_la_universidad_de_guadala... 41.999493               274623\n",
              "yH+W144rewXExDwoahQCCA4ZM3TcQvn1bQ/jHgHWG0kf/bH... bar                                                57.999822                27385\n",
              "yR1mRCbCB6iluTtFID4LPg5+2cvffV/mNepQVJd0smgtpBr... graphic_art_designer                               88.916268                 8544\n",
              "yXxkD2O8IoEPj9OtbUR/ZA5+2cvffV/mNepQVJd0smgtpBr... начальник_конструкторского_бюро                    44.838703                14854\n",
              "\n",
              "[85 rows x 1 columns]"
            ]
          },
          "metadata": {
            "tags": []
          },
          "execution_count": 41
        }
      ]
    },
    {
      "cell_type": "markdown",
      "metadata": {
        "id": "blkJgrnBPZ5e"
      },
      "source": [
        "85 instances (85 users) have supe high years exprerience, it could be either entered mistakely or exagerated which will lead to more outliers and more out of range age determination. I can either delete it or take justify keeping them for each user to avoid outliers/extreme data points in structure sum operation. I am gonna delete them for now since it is not that big a number for 40+ years of experience."
      ]
    },
    {
      "cell_type": "code",
      "metadata": {
        "id": "_9Mw7D5gPZ5f"
      },
      "source": [
        "#Deleting the super high years of experience\n",
        "super_exp = positions_descriptions_df[positions_descriptions_df['job_duration_years']>40].index\n",
        "positions_descriptions_df.drop(super_exp, inplace=True)\n"
      ],
      "execution_count": null,
      "outputs": []
    },
    {
      "cell_type": "markdown",
      "metadata": {
        "id": "wGiS798-PZ5f"
      },
      "source": [
        "It is possible for some users to have muliple job position at the same time and taking a group by sum for each of them would be higher than the actual experience but traditionally most people hold one position and move to another one after promotion/leaving/changing jobs so going towards summation calculation for the users having multiple job experiences. Same approach used for education data file."
      ]
    },
    {
      "cell_type": "code",
      "metadata": {
        "colab": {
          "base_uri": "https://localhost:8080/"
        },
        "id": "sSpgEjLQPZ5f",
        "outputId": "2c05e02d-cdf2-40a9-d6cf-1f24056bbd93"
      },
      "source": [
        "positions_descriptions_df['user_id'].value_counts()"
      ],
      "execution_count": null,
      "outputs": [
        {
          "output_type": "execute_result",
          "data": {
            "text/plain": [
              "CRVl6Qi6FjsGZng/y8E+zg4ZM3TcQvn1bQ/jHgHWG0kf/bHrn17MPg==    100\n",
              "rbwrHDTmAb5iOj/josW5uQ5+2cvffV/mNepQVJd0smgtpBr4MGMFJQ==     81\n",
              "bBpn9NDjfza5z8zMxYySZA5+2cvffV/mNepQVJd0smgtpBr4MGMFJQ==     68\n",
              "a7rtb8EKY5/3a2gnNSmAFA5+2cvffV/mNepQVJd0smgtpBr4MGMFJQ==     59\n",
              "jezdW1GO7A9poKrnCMLNLw5+2cvffV/mNepQVJd0smgtpBr4MGMFJQ==     57\n",
              "                                                           ... \n",
              "NQUaFQhRCZk2sm63ilV5AA5+2cvffV/mNepQVJd0smgtpBr4MGMFJQ==      1\n",
              "mV4VLPG7IK6fI/unRuyHiQ5+2cvffV/mNepQVJd0smgtpBr4MGMFJQ==      1\n",
              "ncCt3r/EimzqWIGYMwogow5+2cvffV/mNepQVJd0smgtpBr4MGMFJQ==      1\n",
              "yD+DPUVJWwE/riULHJc+MQ4ZM3TcQvn1bQ/jHgHWG0kf/bHrn17MPg==      1\n",
              "2hCvJDdalAQbcgsh5Mj02Q4ZM3TcQvn1bQ/jHgHWG0kf/bHrn17MPg==      1\n",
              "Name: user_id, Length: 81450, dtype: int64"
            ]
          },
          "metadata": {
            "tags": []
          },
          "execution_count": 43
        }
      ]
    },
    {
      "cell_type": "code",
      "metadata": {
        "colab": {
          "base_uri": "https://localhost:8080/"
        },
        "id": "KgENDIS8PZ5h",
        "outputId": "27e662ce-aaa6-40c5-c5f5-10b160a1b011"
      },
      "source": [
        "#positions_descriptions_unique_df =positions_descriptions_df.drop_duplicates('user_id')\n",
        "#positions_descriptions_unique_df.info()\n",
        "positions_descriptions_df['user_id'].describe()"
      ],
      "execution_count": null,
      "outputs": [
        {
          "output_type": "execute_result",
          "data": {
            "text/plain": [
              "count                                                376406\n",
              "unique                                                81450\n",
              "top       CRVl6Qi6FjsGZng/y8E+zg4ZM3TcQvn1bQ/jHgHWG0kf/b...\n",
              "freq                                                    100\n",
              "Name: user_id, dtype: object"
            ]
          },
          "metadata": {
            "tags": []
          },
          "execution_count": 46
        }
      ]
    },
    {
      "cell_type": "markdown",
      "metadata": {
        "id": "7FutAIjyPZ5i"
      },
      "source": [
        "As it can be seen from the description above that we have only almost 81k unique users but almost 376k instances which mean single users have multiple job experience entered separately so there is a need to groupby each user and have a total experience as a cumulative sum for each individual to preare for the training set. But this sum would be super high and if we only stick to unique users we might loose a lot od data points.\n",
        "## Merge with undergrad education data\n",
        " "
      ]
    },
    {
      "cell_type": "code",
      "metadata": {
        "colab": {
          "base_uri": "https://localhost:8080/"
        },
        "id": "6ZjQqnNo1f1H",
        "outputId": "232195d9-d17c-473a-d289-ea92e02fa760"
      },
      "source": [
        "education_job = pd.merge(undergrad_education[['user_id','education_duration_years','Age']], \n",
        "              positions_descriptions_df[['user_id','jobtitle','description', 'job_duration_years']],\n",
        "              on='user_id',how='inner')\n",
        "print(education_job['user_id'].describe())\n",
        "education_job.info()"
      ],
      "execution_count": null,
      "outputs": [
        {
          "output_type": "stream",
          "text": [
            "count                                                157611\n",
            "unique                                                29003\n",
            "top       4zbz/K2/Es7QAQ9c3ErsNLbJBBZhf6frbQ/jHgHWG0kf/b...\n",
            "freq                                                    104\n",
            "Name: user_id, dtype: object\n",
            "<class 'pandas.core.frame.DataFrame'>\n",
            "Int64Index: 157611 entries, 0 to 157610\n",
            "Data columns (total 6 columns):\n",
            " #   Column                    Non-Null Count   Dtype  \n",
            "---  ------                    --------------   -----  \n",
            " 0   user_id                   157611 non-null  object \n",
            " 1   education_duration_years  133892 non-null  float64\n",
            " 2   Age                       138205 non-null  float64\n",
            " 3   jobtitle                  157293 non-null  object \n",
            " 4   description               8288 non-null    object \n",
            " 5   job_duration_years        115519 non-null  float64\n",
            "dtypes: float64(3), object(3)\n",
            "memory usage: 8.4+ MB\n"
          ],
          "name": "stdout"
        }
      ]
    },
    {
      "cell_type": "code",
      "metadata": {
        "colab": {
          "base_uri": "https://localhost:8080/",
          "height": 297
        },
        "id": "1kIj6Hk7c2Mx",
        "outputId": "f99fbde3-f8ed-48da-9fab-983eea26b9d5"
      },
      "source": [
        "education_job.describe()"
      ],
      "execution_count": null,
      "outputs": [
        {
          "output_type": "execute_result",
          "data": {
            "text/html": [
              "<div>\n",
              "<style scoped>\n",
              "    .dataframe tbody tr th:only-of-type {\n",
              "        vertical-align: middle;\n",
              "    }\n",
              "\n",
              "    .dataframe tbody tr th {\n",
              "        vertical-align: top;\n",
              "    }\n",
              "\n",
              "    .dataframe thead th {\n",
              "        text-align: right;\n",
              "    }\n",
              "</style>\n",
              "<table border=\"1\" class=\"dataframe\">\n",
              "  <thead>\n",
              "    <tr style=\"text-align: right;\">\n",
              "      <th></th>\n",
              "      <th>education_duration_years</th>\n",
              "      <th>Age</th>\n",
              "      <th>job_duration_years</th>\n",
              "    </tr>\n",
              "  </thead>\n",
              "  <tbody>\n",
              "    <tr>\n",
              "      <th>count</th>\n",
              "      <td>133892.000000</td>\n",
              "      <td>138205.000000</td>\n",
              "      <td>115519.000000</td>\n",
              "    </tr>\n",
              "    <tr>\n",
              "      <th>mean</th>\n",
              "      <td>3.506935</td>\n",
              "      <td>39.180595</td>\n",
              "      <td>2.625858</td>\n",
              "    </tr>\n",
              "    <tr>\n",
              "      <th>std</th>\n",
              "      <td>1.031743</td>\n",
              "      <td>11.540300</td>\n",
              "      <td>3.461102</td>\n",
              "    </tr>\n",
              "    <tr>\n",
              "      <th>min</th>\n",
              "      <td>0.000000</td>\n",
              "      <td>18.339500</td>\n",
              "      <td>0.000000</td>\n",
              "    </tr>\n",
              "    <tr>\n",
              "      <th>25%</th>\n",
              "      <td>3.000746</td>\n",
              "      <td>30.339747</td>\n",
              "      <td>0.665311</td>\n",
              "    </tr>\n",
              "    <tr>\n",
              "      <th>50%</th>\n",
              "      <td>4.000082</td>\n",
              "      <td>36.341239</td>\n",
              "      <td>1.582510</td>\n",
              "    </tr>\n",
              "    <tr>\n",
              "      <th>75%</th>\n",
              "      <td>4.000082</td>\n",
              "      <td>45.340739</td>\n",
              "      <td>3.162283</td>\n",
              "    </tr>\n",
              "    <tr>\n",
              "      <th>max</th>\n",
              "      <td>4.999418</td>\n",
              "      <td>139.341301</td>\n",
              "      <td>39.083623</td>\n",
              "    </tr>\n",
              "  </tbody>\n",
              "</table>\n",
              "</div>"
            ],
            "text/plain": [
              "       education_duration_years            Age  job_duration_years\n",
              "count             133892.000000  138205.000000       115519.000000\n",
              "mean                   3.506935      39.180595            2.625858\n",
              "std                    1.031743      11.540300            3.461102\n",
              "min                    0.000000      18.339500            0.000000\n",
              "25%                    3.000746      30.339747            0.665311\n",
              "50%                    4.000082      36.341239            1.582510\n",
              "75%                    4.000082      45.340739            3.162283\n",
              "max                    4.999418     139.341301           39.083623"
            ]
          },
          "metadata": {
            "tags": []
          },
          "execution_count": 68
        }
      ]
    },
    {
      "cell_type": "markdown",
      "metadata": {
        "id": "WIRnvUFfdbqF"
      },
      "source": [
        "the merged dataset have 29k unique users but 138k data instances to test the model on\n",
        "## Data scatter plot for range estimation/ anomaly detection/ outliers/ error entries"
      ]
    },
    {
      "cell_type": "code",
      "metadata": {
        "colab": {
          "base_uri": "https://localhost:8080/",
          "height": 297
        },
        "id": "VTIcK6Led0Q5",
        "outputId": "1c13a78d-eba3-4f52-cc41-cd87dacb266a"
      },
      "source": [
        "education_job.plot.scatter(x=['job_duration_years'], y=['Age'])"
      ],
      "execution_count": null,
      "outputs": [
        {
          "output_type": "execute_result",
          "data": {
            "text/plain": [
              "<matplotlib.axes._subplots.AxesSubplot at 0x7fd94d1aa710>"
            ]
          },
          "metadata": {
            "tags": []
          },
          "execution_count": 69
        },
        {
          "output_type": "display_data",
          "data": {
            "image/png": "[encoded data removed]",
            "text/plain": [
              "<Figure size 432x288 with 1 Axes>"
            ]
          },
          "metadata": {
            "tags": [],
            "needs_background": "light"
          }
        }
      ]
    },
    {
      "cell_type": "code",
      "metadata": {
        "colab": {
          "base_uri": "https://localhost:8080/",
          "height": 297
        },
        "id": "utU7run9eC2m",
        "outputId": "c11107e0-9896-47ba-a97f-0da34cf77b92"
      },
      "source": [
        "education_job.plot.scatter(x=['education_duration_years'], y=['Age'])"
      ],
      "execution_count": null,
      "outputs": [
        {
          "output_type": "execute_result",
          "data": {
            "text/plain": [
              "<matplotlib.axes._subplots.AxesSubplot at 0x7fd94d110110>"
            ]
          },
          "metadata": {
            "tags": []
          },
          "execution_count": 70
        },
        {
          "output_type": "display_data",
          "data": {
            "image/png": "[encoded data removed]",
            "text/plain": [
              "<Figure size 432x288 with 1 Axes>"
            ]
          },
          "metadata": {
            "tags": [],
            "needs_background": "light"
          }
        }
      ]
    },
    {
      "cell_type": "markdown",
      "metadata": {
        "id": "dF9K8TufePQV"
      },
      "source": [
        "Based on the scatter plot, there are few data points which suggest age as 140, which seems like an outlier and bit of anamoly in this case as we have carefully chooses people with undergrad degree. so deleting those data points.\n"
      ]
    },
    {
      "cell_type": "code",
      "metadata": {
        "colab": {
          "base_uri": "https://localhost:8080/",
          "height": 359
        },
        "id": "5D3T3KCEexgZ",
        "outputId": "70acb0e9-3863-4f62-8ec3-2e68bb879a65"
      },
      "source": [
        "education_job_outlier = education_job[education_job['Age']>130]\n",
        "education_job_outlier"
      ],
      "execution_count": null,
      "outputs": [
        {
          "output_type": "execute_result",
          "data": {
            "text/html": [
              "<div>\n",
              "<style scoped>\n",
              "    .dataframe tbody tr th:only-of-type {\n",
              "        vertical-align: middle;\n",
              "    }\n",
              "\n",
              "    .dataframe tbody tr th {\n",
              "        vertical-align: top;\n",
              "    }\n",
              "\n",
              "    .dataframe thead th {\n",
              "        text-align: right;\n",
              "    }\n",
              "</style>\n",
              "<table border=\"1\" class=\"dataframe\">\n",
              "  <thead>\n",
              "    <tr style=\"text-align: right;\">\n",
              "      <th></th>\n",
              "      <th>user_id</th>\n",
              "      <th>education_duration_years</th>\n",
              "      <th>Age</th>\n",
              "      <th>jobtitle</th>\n",
              "      <th>description</th>\n",
              "      <th>job_duration_years</th>\n",
              "    </tr>\n",
              "  </thead>\n",
              "  <tbody>\n",
              "    <tr>\n",
              "      <th>48676</th>\n",
              "      <td>tRol7RwR8+1ajgty+LS7HQ4ZM3TcQvn1bQ/jHgHWG0kf/b...</td>\n",
              "      <td>0.0</td>\n",
              "      <td>139.341301</td>\n",
              "      <td>communications_director</td>\n",
              "      <td>NaN</td>\n",
              "      <td>8.334189</td>\n",
              "    </tr>\n",
              "    <tr>\n",
              "      <th>48677</th>\n",
              "      <td>tRol7RwR8+1ajgty+LS7HQ4ZM3TcQvn1bQ/jHgHWG0kf/b...</td>\n",
              "      <td>0.0</td>\n",
              "      <td>139.341301</td>\n",
              "      <td>reporter</td>\n",
              "      <td>NaN</td>\n",
              "      <td>6.001492</td>\n",
              "    </tr>\n",
              "    <tr>\n",
              "      <th>48678</th>\n",
              "      <td>tRol7RwR8+1ajgty+LS7HQ4ZM3TcQvn1bQ/jHgHWG0kf/b...</td>\n",
              "      <td>0.0</td>\n",
              "      <td>139.341301</td>\n",
              "      <td>director_communications</td>\n",
              "      <td>NaN</td>\n",
              "      <td>NaN</td>\n",
              "    </tr>\n",
              "    <tr>\n",
              "      <th>48679</th>\n",
              "      <td>tRol7RwR8+1ajgty+LS7HQ4ZM3TcQvn1bQ/jHgHWG0kf/b...</td>\n",
              "      <td>0.0</td>\n",
              "      <td>139.341301</td>\n",
              "      <td>reporter</td>\n",
              "      <td>NaN</td>\n",
              "      <td>0.999336</td>\n",
              "    </tr>\n",
              "    <tr>\n",
              "      <th>48680</th>\n",
              "      <td>tRol7RwR8+1ajgty+LS7HQ4ZM3TcQvn1bQ/jHgHWG0kf/b...</td>\n",
              "      <td>0.0</td>\n",
              "      <td>139.341301</td>\n",
              "      <td>reporter</td>\n",
              "      <td>NaN</td>\n",
              "      <td>4.000082</td>\n",
              "    </tr>\n",
              "    <tr>\n",
              "      <th>146579</th>\n",
              "      <td>Qd+XJ3X9mjsZyWTVqROsog5+2cvffV/mNepQVJd0smgtpB...</td>\n",
              "      <td>0.0</td>\n",
              "      <td>139.341301</td>\n",
              "      <td>consultant_|_management_consulting</td>\n",
              "      <td>NaN</td>\n",
              "      <td>NaN</td>\n",
              "    </tr>\n",
              "    <tr>\n",
              "      <th>146580</th>\n",
              "      <td>Qd+XJ3X9mjsZyWTVqROsog5+2cvffV/mNepQVJd0smgtpB...</td>\n",
              "      <td>0.0</td>\n",
              "      <td>139.341301</td>\n",
              "      <td>pnl_analyst_mbs_|_financial_services</td>\n",
              "      <td>NaN</td>\n",
              "      <td>1.998672</td>\n",
              "    </tr>\n",
              "    <tr>\n",
              "      <th>146581</th>\n",
              "      <td>Qd+XJ3X9mjsZyWTVqROsog5+2cvffV/mNepQVJd0smgtpB...</td>\n",
              "      <td>0.0</td>\n",
              "      <td>139.341301</td>\n",
              "      <td>business_analyst_|_investment_banking</td>\n",
              "      <td>NaN</td>\n",
              "      <td>1.002074</td>\n",
              "    </tr>\n",
              "    <tr>\n",
              "      <th>146582</th>\n",
              "      <td>Qd+XJ3X9mjsZyWTVqROsog5+2cvffV/mNepQVJd0smgtpB...</td>\n",
              "      <td>0.0</td>\n",
              "      <td>139.341301</td>\n",
              "      <td>vice_president_|_banking</td>\n",
              "      <td>NaN</td>\n",
              "      <td>7.499127</td>\n",
              "    </tr>\n",
              "    <tr>\n",
              "      <th>146583</th>\n",
              "      <td>Qd+XJ3X9mjsZyWTVqROsog5+2cvffV/mNepQVJd0smgtpB...</td>\n",
              "      <td>0.0</td>\n",
              "      <td>139.341301</td>\n",
              "      <td>avp_risk_analyst_|_banking</td>\n",
              "      <td>NaN</td>\n",
              "      <td>4.251970</td>\n",
              "    </tr>\n",
              "  </tbody>\n",
              "</table>\n",
              "</div>"
            ],
            "text/plain": [
              "                                                  user_id  ...  job_duration_years\n",
              "48676   tRol7RwR8+1ajgty+LS7HQ4ZM3TcQvn1bQ/jHgHWG0kf/b...  ...            8.334189\n",
              "48677   tRol7RwR8+1ajgty+LS7HQ4ZM3TcQvn1bQ/jHgHWG0kf/b...  ...            6.001492\n",
              "48678   tRol7RwR8+1ajgty+LS7HQ4ZM3TcQvn1bQ/jHgHWG0kf/b...  ...                 NaN\n",
              "48679   tRol7RwR8+1ajgty+LS7HQ4ZM3TcQvn1bQ/jHgHWG0kf/b...  ...            0.999336\n",
              "48680   tRol7RwR8+1ajgty+LS7HQ4ZM3TcQvn1bQ/jHgHWG0kf/b...  ...            4.000082\n",
              "146579  Qd+XJ3X9mjsZyWTVqROsog5+2cvffV/mNepQVJd0smgtpB...  ...                 NaN\n",
              "146580  Qd+XJ3X9mjsZyWTVqROsog5+2cvffV/mNepQVJd0smgtpB...  ...            1.998672\n",
              "146581  Qd+XJ3X9mjsZyWTVqROsog5+2cvffV/mNepQVJd0smgtpB...  ...            1.002074\n",
              "146582  Qd+XJ3X9mjsZyWTVqROsog5+2cvffV/mNepQVJd0smgtpB...  ...            7.499127\n",
              "146583  Qd+XJ3X9mjsZyWTVqROsog5+2cvffV/mNepQVJd0smgtpB...  ...            4.251970\n",
              "\n",
              "[10 rows x 6 columns]"
            ]
          },
          "metadata": {
            "tags": []
          },
          "execution_count": 71
        }
      ]
    },
    {
      "cell_type": "code",
      "metadata": {
        "colab": {
          "base_uri": "https://localhost:8080/",
          "height": 306
        },
        "id": "yMD3HcDMeqS5",
        "outputId": "bb8a3ce6-edbe-45a5-8ea4-1637026920cf"
      },
      "source": [
        "education_job_outlier_idx = education_job[education_job['Age']>130].index\n",
        "education_job.drop(education_job_outlier_idx,inplace=True)\n",
        "education_job.head()"
      ],
      "execution_count": null,
      "outputs": [
        {
          "output_type": "execute_result",
          "data": {
            "text/html": [
              "<div>\n",
              "<style scoped>\n",
              "    .dataframe tbody tr th:only-of-type {\n",
              "        vertical-align: middle;\n",
              "    }\n",
              "\n",
              "    .dataframe tbody tr th {\n",
              "        vertical-align: top;\n",
              "    }\n",
              "\n",
              "    .dataframe thead th {\n",
              "        text-align: right;\n",
              "    }\n",
              "</style>\n",
              "<table border=\"1\" class=\"dataframe\">\n",
              "  <thead>\n",
              "    <tr style=\"text-align: right;\">\n",
              "      <th></th>\n",
              "      <th>user_id</th>\n",
              "      <th>education_duration_years</th>\n",
              "      <th>Age</th>\n",
              "      <th>jobtitle</th>\n",
              "      <th>description</th>\n",
              "      <th>job_duration_years</th>\n",
              "    </tr>\n",
              "  </thead>\n",
              "  <tbody>\n",
              "    <tr>\n",
              "      <th>0</th>\n",
              "      <td>shgvmeKu1Kqqi5LFqdMXsA5+2cvffV/mNepQVJd0smgtpB...</td>\n",
              "      <td>4.000082</td>\n",
              "      <td>31.341821</td>\n",
              "      <td>digital_sales_lead_|_retail</td>\n",
              "      <td>• Cold calls to local business and schools reg...</td>\n",
              "      <td>0.999336</td>\n",
              "    </tr>\n",
              "    <tr>\n",
              "      <th>1</th>\n",
              "      <td>shgvmeKu1Kqqi5LFqdMXsA5+2cvffV/mNepQVJd0smgtpB...</td>\n",
              "      <td>4.000082</td>\n",
              "      <td>31.341821</td>\n",
              "      <td>recruiting_team_lead_|_staffing_recruiting</td>\n",
              "      <td>- Provide great people in the areas of account...</td>\n",
              "      <td>2.086285</td>\n",
              "    </tr>\n",
              "    <tr>\n",
              "      <th>2</th>\n",
              "      <td>shgvmeKu1Kqqi5LFqdMXsA5+2cvffV/mNepQVJd0smgtpB...</td>\n",
              "      <td>4.000082</td>\n",
              "      <td>31.341821</td>\n",
              "      <td>document_imaging_specialist_trainer</td>\n",
              "      <td>• Promptly and accurately identify, track, and...</td>\n",
              "      <td>1.166348</td>\n",
              "    </tr>\n",
              "    <tr>\n",
              "      <th>3</th>\n",
              "      <td>shgvmeKu1Kqqi5LFqdMXsA5+2cvffV/mNepQVJd0smgtpB...</td>\n",
              "      <td>4.000082</td>\n",
              "      <td>31.341821</td>\n",
              "      <td>loan_servicing_specialist_ii_|_financial_services</td>\n",
              "      <td>• Research and resolve tax issues for Wells Fa...</td>\n",
              "      <td>0.167012</td>\n",
              "    </tr>\n",
              "    <tr>\n",
              "      <th>4</th>\n",
              "      <td>shgvmeKu1Kqqi5LFqdMXsA5+2cvffV/mNepQVJd0smgtpB...</td>\n",
              "      <td>4.000082</td>\n",
              "      <td>31.341821</td>\n",
              "      <td>learning_development_specialist_iii</td>\n",
              "      <td>NaN</td>\n",
              "      <td>NaN</td>\n",
              "    </tr>\n",
              "  </tbody>\n",
              "</table>\n",
              "</div>"
            ],
            "text/plain": [
              "                                             user_id  ...  job_duration_years\n",
              "0  shgvmeKu1Kqqi5LFqdMXsA5+2cvffV/mNepQVJd0smgtpB...  ...            0.999336\n",
              "1  shgvmeKu1Kqqi5LFqdMXsA5+2cvffV/mNepQVJd0smgtpB...  ...            2.086285\n",
              "2  shgvmeKu1Kqqi5LFqdMXsA5+2cvffV/mNepQVJd0smgtpB...  ...            1.166348\n",
              "3  shgvmeKu1Kqqi5LFqdMXsA5+2cvffV/mNepQVJd0smgtpB...  ...            0.167012\n",
              "4  shgvmeKu1Kqqi5LFqdMXsA5+2cvffV/mNepQVJd0smgtpB...  ...                 NaN\n",
              "\n",
              "[5 rows x 6 columns]"
            ]
          },
          "metadata": {
            "tags": []
          },
          "execution_count": 73
        }
      ]
    },
    {
      "cell_type": "code",
      "metadata": {
        "colab": {
          "base_uri": "https://localhost:8080/",
          "height": 297
        },
        "id": "Wyg6w-h7iTnO",
        "outputId": "cefb14e1-803e-4e0b-84b7-0fa8bd10ac5f"
      },
      "source": [
        "education_job.describe()"
      ],
      "execution_count": null,
      "outputs": [
        {
          "output_type": "execute_result",
          "data": {
            "text/html": [
              "<div>\n",
              "<style scoped>\n",
              "    .dataframe tbody tr th:only-of-type {\n",
              "        vertical-align: middle;\n",
              "    }\n",
              "\n",
              "    .dataframe tbody tr th {\n",
              "        vertical-align: top;\n",
              "    }\n",
              "\n",
              "    .dataframe thead th {\n",
              "        text-align: right;\n",
              "    }\n",
              "</style>\n",
              "<table border=\"1\" class=\"dataframe\">\n",
              "  <thead>\n",
              "    <tr style=\"text-align: right;\">\n",
              "      <th></th>\n",
              "      <th>education_duration_years</th>\n",
              "      <th>Age</th>\n",
              "      <th>job_duration_years</th>\n",
              "    </tr>\n",
              "  </thead>\n",
              "  <tbody>\n",
              "    <tr>\n",
              "      <th>count</th>\n",
              "      <td>133882.000000</td>\n",
              "      <td>138195.000000</td>\n",
              "      <td>115511.000000</td>\n",
              "    </tr>\n",
              "    <tr>\n",
              "      <th>mean</th>\n",
              "      <td>3.507197</td>\n",
              "      <td>39.173347</td>\n",
              "      <td>2.625745</td>\n",
              "    </tr>\n",
              "    <tr>\n",
              "      <th>std</th>\n",
              "      <td>1.031336</td>\n",
              "      <td>11.509221</td>\n",
              "      <td>3.461125</td>\n",
              "    </tr>\n",
              "    <tr>\n",
              "      <th>min</th>\n",
              "      <td>0.000000</td>\n",
              "      <td>18.339500</td>\n",
              "      <td>0.000000</td>\n",
              "    </tr>\n",
              "    <tr>\n",
              "      <th>25%</th>\n",
              "      <td>3.000746</td>\n",
              "      <td>30.339747</td>\n",
              "      <td>0.665311</td>\n",
              "    </tr>\n",
              "    <tr>\n",
              "      <th>50%</th>\n",
              "      <td>4.000082</td>\n",
              "      <td>36.341239</td>\n",
              "      <td>1.582510</td>\n",
              "    </tr>\n",
              "    <tr>\n",
              "      <th>75%</th>\n",
              "      <td>4.000082</td>\n",
              "      <td>45.340739</td>\n",
              "      <td>3.162283</td>\n",
              "    </tr>\n",
              "    <tr>\n",
              "      <th>max</th>\n",
              "      <td>4.999418</td>\n",
              "      <td>102.341225</td>\n",
              "      <td>39.083623</td>\n",
              "    </tr>\n",
              "  </tbody>\n",
              "</table>\n",
              "</div>"
            ],
            "text/plain": [
              "       education_duration_years            Age  job_duration_years\n",
              "count             133882.000000  138195.000000       115511.000000\n",
              "mean                   3.507197      39.173347            2.625745\n",
              "std                    1.031336      11.509221            3.461125\n",
              "min                    0.000000      18.339500            0.000000\n",
              "25%                    3.000746      30.339747            0.665311\n",
              "50%                    4.000082      36.341239            1.582510\n",
              "75%                    4.000082      45.340739            3.162283\n",
              "max                    4.999418     102.341225           39.083623"
            ]
          },
          "metadata": {
            "tags": []
          },
          "execution_count": 74
        }
      ]
    },
    {
      "cell_type": "markdown",
      "metadata": {
        "id": "kCmp44j-gfqB"
      },
      "source": [
        "# Data Exploration for Seniority jobtitle data\n"
      ]
    },
    {
      "cell_type": "code",
      "metadata": {
        "colab": {
          "base_uri": "https://localhost:8080/"
        },
        "id": "ZYxkGRgWsxLb",
        "outputId": "554a09c4-fc00-496a-db5d-12e9d5d18b11"
      },
      "source": [
        "jobtitle_seniority_df['user_id'].describe()"
      ],
      "execution_count": null,
      "outputs": [
        {
          "output_type": "execute_result",
          "data": {
            "text/plain": [
              "count                                                416295\n",
              "unique                                               100000\n",
              "top       rbwrHDTmAb5iOj/josW5uQ5+2cvffV/mNepQVJd0smgtpB...\n",
              "freq                                                     70\n",
              "Name: user_id, dtype: object"
            ]
          },
          "metadata": {
            "tags": []
          },
          "execution_count": 75
        }
      ]
    },
    {
      "cell_type": "code",
      "metadata": {
        "colab": {
          "base_uri": "https://localhost:8080/"
        },
        "id": "FJbNDyjWhDkA",
        "outputId": "301463bb-5f54-427b-e6aa-9516b417f338"
      },
      "source": [
        "jobtitle_seniority_df.info()"
      ],
      "execution_count": null,
      "outputs": [
        {
          "output_type": "stream",
          "text": [
            "<class 'pandas.core.frame.DataFrame'>\n",
            "RangeIndex: 416295 entries, 0 to 416294\n",
            "Data columns (total 3 columns):\n",
            " #   Column     Non-Null Count   Dtype  \n",
            "---  ------     --------------   -----  \n",
            " 0   user_id    416295 non-null  object \n",
            " 1   jobtitle   414290 non-null  object \n",
            " 2   seniority  416295 non-null  float64\n",
            "dtypes: float64(1), object(2)\n",
            "memory usage: 9.5+ MB\n"
          ],
          "name": "stdout"
        }
      ]
    },
    {
      "cell_type": "code",
      "metadata": {
        "colab": {
          "base_uri": "https://localhost:8080/",
          "height": 297
        },
        "id": "y3yYvR6lg8z1",
        "outputId": "b9fbd24f-661d-46be-ed81-3eaa99225aaf"
      },
      "source": [
        "jobtitle_seniority_df.describe()"
      ],
      "execution_count": null,
      "outputs": [
        {
          "output_type": "execute_result",
          "data": {
            "text/html": [
              "<div>\n",
              "<style scoped>\n",
              "    .dataframe tbody tr th:only-of-type {\n",
              "        vertical-align: middle;\n",
              "    }\n",
              "\n",
              "    .dataframe tbody tr th {\n",
              "        vertical-align: top;\n",
              "    }\n",
              "\n",
              "    .dataframe thead th {\n",
              "        text-align: right;\n",
              "    }\n",
              "</style>\n",
              "<table border=\"1\" class=\"dataframe\">\n",
              "  <thead>\n",
              "    <tr style=\"text-align: right;\">\n",
              "      <th></th>\n",
              "      <th>seniority</th>\n",
              "    </tr>\n",
              "  </thead>\n",
              "  <tbody>\n",
              "    <tr>\n",
              "      <th>count</th>\n",
              "      <td>416295.000000</td>\n",
              "    </tr>\n",
              "    <tr>\n",
              "      <th>mean</th>\n",
              "      <td>4.197873</td>\n",
              "    </tr>\n",
              "    <tr>\n",
              "      <th>std</th>\n",
              "      <td>1.878557</td>\n",
              "    </tr>\n",
              "    <tr>\n",
              "      <th>min</th>\n",
              "      <td>0.084932</td>\n",
              "    </tr>\n",
              "    <tr>\n",
              "      <th>25%</th>\n",
              "      <td>3.042827</td>\n",
              "    </tr>\n",
              "    <tr>\n",
              "      <th>50%</th>\n",
              "      <td>4.066610</td>\n",
              "    </tr>\n",
              "    <tr>\n",
              "      <th>75%</th>\n",
              "      <td>5.099970</td>\n",
              "    </tr>\n",
              "    <tr>\n",
              "      <th>max</th>\n",
              "      <td>29.186301</td>\n",
              "    </tr>\n",
              "  </tbody>\n",
              "</table>\n",
              "</div>"
            ],
            "text/plain": [
              "           seniority\n",
              "count  416295.000000\n",
              "mean        4.197873\n",
              "std         1.878557\n",
              "min         0.084932\n",
              "25%         3.042827\n",
              "50%         4.066610\n",
              "75%         5.099970\n",
              "max        29.186301"
            ]
          },
          "metadata": {
            "tags": []
          },
          "execution_count": 77
        }
      ]
    },
    {
      "cell_type": "markdown",
      "metadata": {
        "id": "t9rYc7BBhOs4"
      },
      "source": [
        "seniority data mostly have experience under 30 years which seems reasonable andn has 100k unique users with almost 416k data instances, it would be better to only work with user_id that has age and add more support in terms of features from this information so merging it again with the education_job data"
      ]
    },
    {
      "cell_type": "markdown",
      "metadata": {
        "id": "ll_ecbI-igis"
      },
      "source": [
        "## Merge seniority with education_job data \n",
        "based on similar users to have age for all the data instances"
      ]
    },
    {
      "cell_type": "code",
      "metadata": {
        "colab": {
          "base_uri": "https://localhost:8080/"
        },
        "id": "6UD7v3u0ifPc",
        "outputId": "9c77cee7-0e9a-4884-ddbd-f53a05cedf68"
      },
      "source": [
        "education_job_seniority = pd.merge(education_job[['user_id','education_duration_years','job_duration_years','jobtitle','Age']], \n",
        "              jobtitle_seniority_df[['user_id','jobtitle', 'seniority']],\n",
        "              on='user_id',how='inner')\n",
        "print(education_job_seniority['user_id'].describe())\n",
        "education_job_seniority.info()"
      ],
      "execution_count": null,
      "outputs": [
        {
          "output_type": "stream",
          "text": [
            "count                                               1000027\n",
            "unique                                                29001\n",
            "top       bBpn9NDjfza5z8zMxYySZA5+2cvffV/mNepQVJd0smgtpB...\n",
            "freq                                                   4420\n",
            "Name: user_id, dtype: object\n",
            "<class 'pandas.core.frame.DataFrame'>\n",
            "Int64Index: 1000027 entries, 0 to 1000026\n",
            "Data columns (total 7 columns):\n",
            " #   Column                    Non-Null Count    Dtype  \n",
            "---  ------                    --------------    -----  \n",
            " 0   user_id                   1000027 non-null  object \n",
            " 1   education_duration_years  848712 non-null   float64\n",
            " 2   job_duration_years        786959 non-null   float64\n",
            " 3   jobtitle_x                998217 non-null   object \n",
            " 4   Age                       876852 non-null   float64\n",
            " 5   jobtitle_y                998816 non-null   object \n",
            " 6   seniority                 1000027 non-null  float64\n",
            "dtypes: float64(4), object(3)\n",
            "memory usage: 61.0+ MB\n"
          ],
          "name": "stdout"
        }
      ]
    },
    {
      "cell_type": "markdown",
      "metadata": {
        "id": "LvIykH6kipoE"
      },
      "source": [
        "# Final Merged Data Processing\n"
      ]
    },
    {
      "cell_type": "code",
      "metadata": {
        "colab": {
          "base_uri": "https://localhost:8080/",
          "height": 224
        },
        "id": "YjD4cP8pjVSG",
        "outputId": "3d787c44-c2de-46e0-f5ec-8e9cc00eda27"
      },
      "source": [
        "education_job_seniority.head()"
      ],
      "execution_count": null,
      "outputs": [
        {
          "output_type": "execute_result",
          "data": {
            "text/html": [
              "<div>\n",
              "<style scoped>\n",
              "    .dataframe tbody tr th:only-of-type {\n",
              "        vertical-align: middle;\n",
              "    }\n",
              "\n",
              "    .dataframe tbody tr th {\n",
              "        vertical-align: top;\n",
              "    }\n",
              "\n",
              "    .dataframe thead th {\n",
              "        text-align: right;\n",
              "    }\n",
              "</style>\n",
              "<table border=\"1\" class=\"dataframe\">\n",
              "  <thead>\n",
              "    <tr style=\"text-align: right;\">\n",
              "      <th></th>\n",
              "      <th>user_id</th>\n",
              "      <th>education_duration_years</th>\n",
              "      <th>job_duration_years</th>\n",
              "      <th>jobtitle_x</th>\n",
              "      <th>Age</th>\n",
              "      <th>jobtitle_y</th>\n",
              "      <th>seniority</th>\n",
              "    </tr>\n",
              "  </thead>\n",
              "  <tbody>\n",
              "    <tr>\n",
              "      <th>0</th>\n",
              "      <td>shgvmeKu1Kqqi5LFqdMXsA5+2cvffV/mNepQVJd0smgtpB...</td>\n",
              "      <td>4.000082</td>\n",
              "      <td>0.999336</td>\n",
              "      <td>digital_sales_lead_|_retail</td>\n",
              "      <td>31.341821</td>\n",
              "      <td>learning_development_specialist_iii</td>\n",
              "      <td>4.610305</td>\n",
              "    </tr>\n",
              "    <tr>\n",
              "      <th>1</th>\n",
              "      <td>shgvmeKu1Kqqi5LFqdMXsA5+2cvffV/mNepQVJd0smgtpB...</td>\n",
              "      <td>4.000082</td>\n",
              "      <td>0.999336</td>\n",
              "      <td>digital_sales_lead_|_retail</td>\n",
              "      <td>31.341821</td>\n",
              "      <td>recruiting_team_lead_|_staffing_recruiting</td>\n",
              "      <td>3.557078</td>\n",
              "    </tr>\n",
              "    <tr>\n",
              "      <th>2</th>\n",
              "      <td>shgvmeKu1Kqqi5LFqdMXsA5+2cvffV/mNepQVJd0smgtpB...</td>\n",
              "      <td>4.000082</td>\n",
              "      <td>0.999336</td>\n",
              "      <td>digital_sales_lead_|_retail</td>\n",
              "      <td>31.341821</td>\n",
              "      <td>digital_sales_lead_|_retail</td>\n",
              "      <td>2.753425</td>\n",
              "    </tr>\n",
              "    <tr>\n",
              "      <th>3</th>\n",
              "      <td>shgvmeKu1Kqqi5LFqdMXsA5+2cvffV/mNepQVJd0smgtpB...</td>\n",
              "      <td>4.000082</td>\n",
              "      <td>0.999336</td>\n",
              "      <td>digital_sales_lead_|_retail</td>\n",
              "      <td>31.341821</td>\n",
              "      <td>document_imaging_specialist_trainer</td>\n",
              "      <td>3.737150</td>\n",
              "    </tr>\n",
              "    <tr>\n",
              "      <th>4</th>\n",
              "      <td>shgvmeKu1Kqqi5LFqdMXsA5+2cvffV/mNepQVJd0smgtpB...</td>\n",
              "      <td>4.000082</td>\n",
              "      <td>0.999336</td>\n",
              "      <td>digital_sales_lead_|_retail</td>\n",
              "      <td>31.341821</td>\n",
              "      <td>loan_servicing_specialist_ii_|_financial_services</td>\n",
              "      <td>3.419178</td>\n",
              "    </tr>\n",
              "  </tbody>\n",
              "</table>\n",
              "</div>"
            ],
            "text/plain": [
              "                                             user_id  ...  seniority\n",
              "0  shgvmeKu1Kqqi5LFqdMXsA5+2cvffV/mNepQVJd0smgtpB...  ...   4.610305\n",
              "1  shgvmeKu1Kqqi5LFqdMXsA5+2cvffV/mNepQVJd0smgtpB...  ...   3.557078\n",
              "2  shgvmeKu1Kqqi5LFqdMXsA5+2cvffV/mNepQVJd0smgtpB...  ...   2.753425\n",
              "3  shgvmeKu1Kqqi5LFqdMXsA5+2cvffV/mNepQVJd0smgtpB...  ...   3.737150\n",
              "4  shgvmeKu1Kqqi5LFqdMXsA5+2cvffV/mNepQVJd0smgtpB...  ...   3.419178\n",
              "\n",
              "[5 rows x 7 columns]"
            ]
          },
          "metadata": {
            "tags": []
          },
          "execution_count": 81
        }
      ]
    },
    {
      "cell_type": "markdown",
      "metadata": {
        "id": "v3fg8HZsnqSy"
      },
      "source": [
        "## Visualizing the education_job_seniority Experience Data "
      ]
    },
    {
      "cell_type": "code",
      "metadata": {
        "colab": {
          "base_uri": "https://localhost:8080/",
          "height": 296
        },
        "id": "nVwAes8VcPt9",
        "outputId": "2e73fddb-039e-45db-eba6-e4bfea8a5855"
      },
      "source": [
        "education_job_seniority.plot.scatter(x=['seniority'], y=['Age'])"
      ],
      "execution_count": null,
      "outputs": [
        {
          "output_type": "execute_result",
          "data": {
            "text/plain": [
              "<matplotlib.axes._subplots.AxesSubplot at 0x7fd94cfa2350>"
            ]
          },
          "metadata": {
            "tags": []
          },
          "execution_count": 84
        },
        {
          "output_type": "display_data",
          "data": {
            "image/png": "[encoded data removed]",
            "text/plain": [
              "<Figure size 432x288 with 1 Axes>"
            ]
          },
          "metadata": {
            "tags": [],
            "needs_background": "light"
          }
        }
      ]
    },
    {
      "cell_type": "code",
      "metadata": {
        "colab": {
          "base_uri": "https://localhost:8080/",
          "height": 296
        },
        "id": "eJSZ7yh6j-1w",
        "outputId": "257b50f2-123c-4920-bf47-95d59f430fa2"
      },
      "source": [
        "education_job_seniority.plot.scatter(x=['seniority'], y=['job_duration_years'])"
      ],
      "execution_count": null,
      "outputs": [
        {
          "output_type": "execute_result",
          "data": {
            "text/plain": [
              "<matplotlib.axes._subplots.AxesSubplot at 0x7fd94ce50090>"
            ]
          },
          "metadata": {
            "tags": []
          },
          "execution_count": 86
        },
        {
          "output_type": "display_data",
          "data": {
            "image/png": "[encoded data removed]",
            "text/plain": [
              "<Figure size 432x288 with 1 Axes>"
            ]
          },
          "metadata": {
            "tags": [],
            "needs_background": "light"
          }
        }
      ]
    },
    {
      "cell_type": "code",
      "metadata": {
        "colab": {
          "base_uri": "https://localhost:8080/",
          "height": 124
        },
        "id": "fhNqdoBUkaSM",
        "outputId": "9068d235-06da-4945-a082-1934f9895d1c"
      },
      "source": [
        "corr = education_job_seniority.corr()\n",
        "corr.style.background_gradient(cmap='coolwarm').set_precision(2)\n",
        "# 'RdBu_r' & 'BrBG' are other good diverging colormaps"
      ],
      "execution_count": null,
      "outputs": [
        {
          "output_type": "execute_result",
          "data": {
            "text/html": [
              "<style  type=\"text/css\" >\n",
              "#T_4aa83374_ad52_11eb_aa9d_0242ac1c0002row0_col0,#T_4aa83374_ad52_11eb_aa9d_0242ac1c0002row1_col1,#T_4aa83374_ad52_11eb_aa9d_0242ac1c0002row2_col2,#T_4aa83374_ad52_11eb_aa9d_0242ac1c0002row3_col3{\n",
              "            background-color:  #b40426;\n",
              "            color:  #f1f1f1;\n",
              "        }#T_4aa83374_ad52_11eb_aa9d_0242ac1c0002row0_col1,#T_4aa83374_ad52_11eb_aa9d_0242ac1c0002row0_col2,#T_4aa83374_ad52_11eb_aa9d_0242ac1c0002row0_col3,#T_4aa83374_ad52_11eb_aa9d_0242ac1c0002row1_col0{\n",
              "            background-color:  #3b4cc0;\n",
              "            color:  #f1f1f1;\n",
              "        }#T_4aa83374_ad52_11eb_aa9d_0242ac1c0002row1_col2{\n",
              "            background-color:  #90b2fe;\n",
              "            color:  #000000;\n",
              "        }#T_4aa83374_ad52_11eb_aa9d_0242ac1c0002row1_col3{\n",
              "            background-color:  #7597f6;\n",
              "            color:  #000000;\n",
              "        }#T_4aa83374_ad52_11eb_aa9d_0242ac1c0002row2_col0{\n",
              "            background-color:  #6b8df0;\n",
              "            color:  #000000;\n",
              "        }#T_4aa83374_ad52_11eb_aa9d_0242ac1c0002row2_col1{\n",
              "            background-color:  #b7cff9;\n",
              "            color:  #000000;\n",
              "        }#T_4aa83374_ad52_11eb_aa9d_0242ac1c0002row2_col3{\n",
              "            background-color:  #bbd1f8;\n",
              "            color:  #000000;\n",
              "        }#T_4aa83374_ad52_11eb_aa9d_0242ac1c0002row3_col0{\n",
              "            background-color:  #4055c8;\n",
              "            color:  #f1f1f1;\n",
              "        }#T_4aa83374_ad52_11eb_aa9d_0242ac1c0002row3_col1{\n",
              "            background-color:  #7a9df8;\n",
              "            color:  #000000;\n",
              "        }#T_4aa83374_ad52_11eb_aa9d_0242ac1c0002row3_col2{\n",
              "            background-color:  #9abbff;\n",
              "            color:  #000000;\n",
              "        }</style><table id=\"T_4aa83374_ad52_11eb_aa9d_0242ac1c0002\" ><thead>    <tr>        <th class=\"blank level0\" ></th>        <th class=\"col_heading level0 col0\" >education_duration_years</th>        <th class=\"col_heading level0 col1\" >job_duration_years</th>        <th class=\"col_heading level0 col2\" >Age</th>        <th class=\"col_heading level0 col3\" >seniority</th>    </tr></thead><tbody>\n",
              "                <tr>\n",
              "                        <th id=\"T_4aa83374_ad52_11eb_aa9d_0242ac1c0002level0_row0\" class=\"row_heading level0 row0\" >education_duration_years</th>\n",
              "                        <td id=\"T_4aa83374_ad52_11eb_aa9d_0242ac1c0002row0_col0\" class=\"data row0 col0\" >1.00</td>\n",
              "                        <td id=\"T_4aa83374_ad52_11eb_aa9d_0242ac1c0002row0_col1\" class=\"data row0 col1\" >-0.00</td>\n",
              "                        <td id=\"T_4aa83374_ad52_11eb_aa9d_0242ac1c0002row0_col2\" class=\"data row0 col2\" >0.15</td>\n",
              "                        <td id=\"T_4aa83374_ad52_11eb_aa9d_0242ac1c0002row0_col3\" class=\"data row0 col3\" >0.02</td>\n",
              "            </tr>\n",
              "            <tr>\n",
              "                        <th id=\"T_4aa83374_ad52_11eb_aa9d_0242ac1c0002level0_row1\" class=\"row_heading level0 row1\" >job_duration_years</th>\n",
              "                        <td id=\"T_4aa83374_ad52_11eb_aa9d_0242ac1c0002row1_col0\" class=\"data row1 col0\" >-0.00</td>\n",
              "                        <td id=\"T_4aa83374_ad52_11eb_aa9d_0242ac1c0002row1_col1\" class=\"data row1 col1\" >1.00</td>\n",
              "                        <td id=\"T_4aa83374_ad52_11eb_aa9d_0242ac1c0002row1_col2\" class=\"data row1 col2\" >0.37</td>\n",
              "                        <td id=\"T_4aa83374_ad52_11eb_aa9d_0242ac1c0002row1_col3\" class=\"data row1 col3\" >0.19</td>\n",
              "            </tr>\n",
              "            <tr>\n",
              "                        <th id=\"T_4aa83374_ad52_11eb_aa9d_0242ac1c0002level0_row2\" class=\"row_heading level0 row2\" >Age</th>\n",
              "                        <td id=\"T_4aa83374_ad52_11eb_aa9d_0242ac1c0002row2_col0\" class=\"data row2 col0\" >0.15</td>\n",
              "                        <td id=\"T_4aa83374_ad52_11eb_aa9d_0242ac1c0002row2_col1\" class=\"data row2 col1\" >0.37</td>\n",
              "                        <td id=\"T_4aa83374_ad52_11eb_aa9d_0242ac1c0002row2_col2\" class=\"data row2 col2\" >1.00</td>\n",
              "                        <td id=\"T_4aa83374_ad52_11eb_aa9d_0242ac1c0002row2_col3\" class=\"data row2 col3\" >0.40</td>\n",
              "            </tr>\n",
              "            <tr>\n",
              "                        <th id=\"T_4aa83374_ad52_11eb_aa9d_0242ac1c0002level0_row3\" class=\"row_heading level0 row3\" >seniority</th>\n",
              "                        <td id=\"T_4aa83374_ad52_11eb_aa9d_0242ac1c0002row3_col0\" class=\"data row3 col0\" >0.02</td>\n",
              "                        <td id=\"T_4aa83374_ad52_11eb_aa9d_0242ac1c0002row3_col1\" class=\"data row3 col1\" >0.19</td>\n",
              "                        <td id=\"T_4aa83374_ad52_11eb_aa9d_0242ac1c0002row3_col2\" class=\"data row3 col2\" >0.40</td>\n",
              "                        <td id=\"T_4aa83374_ad52_11eb_aa9d_0242ac1c0002row3_col3\" class=\"data row3 col3\" >1.00</td>\n",
              "            </tr>\n",
              "    </tbody></table>"
            ],
            "text/plain": [
              "<pandas.io.formats.style.Styler at 0x7fd94cb10750>"
            ]
          },
          "metadata": {
            "tags": []
          },
          "execution_count": 90
        }
      ]
    },
    {
      "cell_type": "code",
      "metadata": {
        "colab": {
          "base_uri": "https://localhost:8080/",
          "height": 406
        },
        "id": "Rb8hlgh7lM2z",
        "outputId": "4a1dfa45-ae64-47a8-fa6c-aa6d0238415d"
      },
      "source": [
        "import seaborn as sns\n",
        "sns.heatmap(corr, \n",
        "            xticklabels=corr.columns.values,\n",
        "            yticklabels=corr.columns.values)"
      ],
      "execution_count": null,
      "outputs": [
        {
          "output_type": "execute_result",
          "data": {
            "text/plain": [
              "<matplotlib.axes._subplots.AxesSubplot at 0x7fd93dee1ed0>"
            ]
          },
          "metadata": {
            "tags": []
          },
          "execution_count": 92
        },
        {
          "output_type": "display_data",
          "data": {
            "image/png": "[encoded data removed]",
            "text/plain": [
              "<Figure size 432x288 with 2 Axes>"
            ]
          },
          "metadata": {
            "tags": [],
            "needs_background": "light"
          }
        }
      ]
    },
    {
      "cell_type": "code",
      "metadata": {
        "colab": {
          "base_uri": "https://localhost:8080/",
          "height": 743
        },
        "id": "OcNMrG_wlZg7",
        "outputId": "2e306836-c31c-4736-92d9-eb83dc172e0a"
      },
      "source": [
        "sns.pairplot(education_job_seniority)\n"
      ],
      "execution_count": null,
      "outputs": [
        {
          "output_type": "execute_result",
          "data": {
            "text/plain": [
              "<seaborn.axisgrid.PairGrid at 0x7fd93de2ec50>"
            ]
          },
          "metadata": {
            "tags": []
          },
          "execution_count": 93
        },
        {
          "output_type": "display_data",
          "data": {
            "image/png": "[encoded data removed]",
            "text/plain": [
              "<Figure size 720x720 with 20 Axes>"
            ]
          },
          "metadata": {
            "tags": [],
            "needs_background": "light"
          }
        }
      ]
    },
    {
      "cell_type": "markdown",
      "metadata": {
        "id": "eqGf9foZmUDH"
      },
      "source": [
        "Although we calculated Age based on eduction duration years so I was expecting strong correlation between then but it is even lesses then the job or seniority experience so based on correlation matrix and heatmat and pair plot, we can conclude that Predicting age would bot be biased only for education duration years."
      ]
    },
    {
      "cell_type": "code",
      "metadata": {
        "id": "M4uuKmNeZgjL"
      },
      "source": [
        ""
      ],
      "execution_count": null,
      "outputs": []
    },
    {
      "cell_type": "markdown",
      "metadata": {
        "id": "lmNSaZAgjNTu"
      },
      "source": [
        "# Age Prediction Model"
      ]
    },
    {
      "cell_type": "code",
      "metadata": {
        "colab": {
          "base_uri": "https://localhost:8080/"
        },
        "id": "by10GZSp5FRi",
        "outputId": "4a14441a-9b29-42ae-f19b-a1d982b7557c"
      },
      "source": [
        "## for plotting\n",
        "import matplotlib.pyplot as plt\n",
        "## for statistical tests\n",
        "import scipy\n",
        "import statsmodels.formula.api as smf\n",
        "import statsmodels.api as sm\n",
        "## for machine learning\n",
        "from sklearn import model_selection, preprocessing, feature_selection, ensemble, linear_model, metrics, decomposition\n",
        "## for explainer\n"
      ],
      "execution_count": null,
      "outputs": [
        {
          "output_type": "stream",
          "text": [
            "/usr/local/lib/python3.7/dist-packages/statsmodels/tools/_testing.py:19: FutureWarning: pandas.util.testing is deprecated. Use the functions in the public API at pandas.testing instead.\n",
            "  import pandas.util.testing as tm\n"
          ],
          "name": "stderr"
        }
      ]
    },
    {
      "cell_type": "markdown",
      "metadata": {
        "id": "1iTIMb_esdYB"
      },
      "source": [
        "## Deleting the missing values after merging multiple dataset"
      ]
    },
    {
      "cell_type": "code",
      "metadata": {
        "id": "7IZJVLj88d7r"
      },
      "source": [
        "education_job_seniority.dropna(subset=['Age'])"
      ],
      "execution_count": null,
      "outputs": []
    },
    {
      "cell_type": "code",
      "metadata": {
        "id": "2kS5g85qr5aP"
      },
      "source": [
        "education_job_seniority.dropna(subset=['job_duration_years'],inplace=True)"
      ],
      "execution_count": null,
      "outputs": []
    },
    {
      "cell_type": "code",
      "metadata": {
        "id": "TyQLeB9ppJcj"
      },
      "source": [
        "education_job_seniority.dropna(subset=['education_duration_years'],inplace=True)"
      ],
      "execution_count": null,
      "outputs": []
    },
    {
      "cell_type": "code",
      "metadata": {
        "id": "0c04NVQasmlm"
      },
      "source": [
        "education_job_seniority.dropna(subset=['seniority'],inplace=True)"
      ],
      "execution_count": null,
      "outputs": []
    },
    {
      "cell_type": "code",
      "metadata": {
        "colab": {
          "base_uri": "https://localhost:8080/"
        },
        "id": "ppb0tPZZ8nir",
        "outputId": "7adf0704-ddb2-4c26-d367-be7cd9b86acd"
      },
      "source": [
        "education_job_seniority.info()"
      ],
      "execution_count": null,
      "outputs": [
        {
          "output_type": "stream",
          "text": [
            "<class 'pandas.core.frame.DataFrame'>\n",
            "Int64Index: 665857 entries, 0 to 1000014\n",
            "Data columns (total 7 columns):\n",
            " #   Column                    Non-Null Count   Dtype  \n",
            "---  ------                    --------------   -----  \n",
            " 0   user_id                   665857 non-null  object \n",
            " 1   education_duration_years  665857 non-null  float64\n",
            " 2   job_duration_years        665857 non-null  float64\n",
            " 3   jobtitle_x                665028 non-null  object \n",
            " 4   Age                       665857 non-null  float64\n",
            " 5   jobtitle_y                665261 non-null  object \n",
            " 6   seniority                 665857 non-null  float64\n",
            "dtypes: float64(4), object(3)\n",
            "memory usage: 40.6+ MB\n"
          ],
          "name": "stdout"
        }
      ]
    },
    {
      "cell_type": "code",
      "metadata": {
        "colab": {
          "base_uri": "https://localhost:8080/"
        },
        "id": "csPyvrdTvWqq",
        "outputId": "d45e0bad-bff3-43c2-cc2a-85c74db758e1"
      },
      "source": [
        "education_job_seniority['user_id'].describe()"
      ],
      "execution_count": null,
      "outputs": [
        {
          "output_type": "execute_result",
          "data": {
            "text/plain": [
              "count                                                665857\n",
              "unique                                                21244\n",
              "top       bBpn9NDjfza5z8zMxYySZA5+2cvffV/mNepQVJd0smgtpB...\n",
              "freq                                                   4355\n",
              "Name: user_id, dtype: object"
            ]
          },
          "metadata": {
            "tags": []
          },
          "execution_count": 117
        }
      ]
    },
    {
      "cell_type": "markdown",
      "metadata": {
        "id": "HcNDV3Z85QIe"
      },
      "source": [
        "## Model building "
      ]
    },
    {
      "cell_type": "markdown",
      "metadata": {
        "id": "poH0kAgf5Urz"
      },
      "source": [
        "## Linear Regression"
      ]
    },
    {
      "cell_type": "code",
      "metadata": {
        "colab": {
          "base_uri": "https://localhost:8080/",
          "height": 329
        },
        "id": "nPF5d0ZS-Hmn",
        "outputId": "5dcb24d7-f80c-477e-fbad-587ae5d82de9"
      },
      "source": [
        "# Compare Algorithms\n",
        "import matplotlib.pyplot as plt\n",
        "from sklearn.model_selection import train_test_split\n",
        "from sklearn import model_selection\n",
        "from sklearn import metrics\n",
        "from sklearn.linear_model import LinearRegression\n",
        "from sklearn.tree import DecisionTreeRegressor\n",
        "\n",
        "## call model\n",
        "model = linear_model.LinearRegression()\n",
        "## K fold validation\n",
        "scores = []\n",
        "cv = model_selection.KFold(n_splits=5, shuffle=True)\n",
        "fig = plt.figure()\n",
        "i = 1\n",
        "for train, test in cv.split(X_train, y_train):\n",
        "    prediction = model.fit(X_train[train],\n",
        "                 y_train[train]).predict(X_train[test])\n",
        "    true = y_train[test]\n",
        "    score = metrics.r2_score(true, prediction)\n",
        "    scores.append(score)\n",
        "    plt.scatter(prediction, true, lw=2, alpha=0.3, \n",
        "                label='Fold %d (R2 = %0.2f)' % (i,score))\n",
        "    i = i+1\n",
        "plt.plot([min(y_train),max(y_train)], [min(y_train),max(y_train)], \n",
        "         linestyle='--', lw=2, color='black')\n",
        "plt.xlabel('Predicted')\n",
        "plt.ylabel('True')\n",
        "plt.title('K-Fold Validation')\n",
        "plt.legend()\n",
        "plt.show()"
      ],
      "execution_count": null,
      "outputs": [
        {
          "output_type": "stream",
          "text": [
            "/usr/local/lib/python3.7/dist-packages/IPython/core/pylabtools.py:125: UserWarning: Creating legend with loc=\"best\" can be slow with large amounts of data.\n",
            "  fig.canvas.print_figure(bytes_io, **kw)\n"
          ],
          "name": "stderr"
        },
        {
          "output_type": "display_data",
          "data": {
            "image/png": "[encoded data removed]",
            "text/plain": [
              "<Figure size 432x288 with 1 Axes>"
            ]
          },
          "metadata": {
            "tags": [],
            "needs_background": "light"
          }
        }
      ]
    },
    {
      "cell_type": "code",
      "metadata": {
        "colab": {
          "base_uri": "https://localhost:8080/"
        },
        "id": "ayLNz5Ws_E76",
        "outputId": "5b2ee553-518f-489a-be1a-76b3a7b9d20b"
      },
      "source": [
        "## train\n",
        "model.fit(X_train, y_train)\n",
        "## test\n",
        "predicted = model.predict(X_test)\n",
        "print('Mean Absolute Error:', metrics.mean_absolute_error(y_test, predicted))\n",
        "print('Mean Squared Error:', metrics.mean_squared_error(y_test, predicted))\n",
        "print('Root Mean Squared Error:', np.sqrt(metrics.mean_squared_error(y_test, predicted)))\n"
      ],
      "execution_count": null,
      "outputs": [
        {
          "output_type": "stream",
          "text": [
            "Mean Absolute Error: 7.366080611181166\n",
            "Mean Squared Error: 91.77647720842319\n",
            "Root Mean Squared Error: 9.580004029666334\n"
          ],
          "name": "stdout"
        }
      ]
    },
    {
      "cell_type": "code",
      "metadata": {
        "colab": {
          "base_uri": "https://localhost:8080/",
          "height": 470
        },
        "id": "PQRZ5itz6rDp",
        "outputId": "dd5b87f0-3282-411d-8cbc-efc639dc323d"
      },
      "source": [
        "\n",
        "### split data into predictors and response variables\n",
        "\n",
        "names = ['education_duration_years', 'job_duration_years', 'seniority']\n",
        "X = education_job_seniority[names].values\n",
        "Y = education_job_seniority[\"Age\"].values\n",
        "X_train, X_test, y_train, y_test = train_test_split(X, Y, test_size= 0.3, random_state=0)\n",
        "\n",
        "model = LinearRegression()\n",
        "model.fit(X_train,y_train)\n",
        "y_pred = model.predict(X_test)\n",
        "print('Mean Absolute Error:', metrics.mean_absolute_error(y_test, y_pred))\n",
        "print('Mean Squared Error:', metrics.mean_squared_error(y_test, y_pred))\n",
        "print('Root Mean Squared Error:', np.sqrt(metrics.mean_squared_error(y_test, y_pred)))\n",
        "df = pd.DataFrame({'Actual': y_test, 'Predicted': y_pred})\n",
        "df"
      ],
      "execution_count": null,
      "outputs": [
        {
          "output_type": "stream",
          "text": [
            "Mean Absolute Error: 7.366080611181166\n",
            "Mean Squared Error: 91.77647720842319\n",
            "Root Mean Squared Error: 9.580004029666334\n"
          ],
          "name": "stdout"
        },
        {
          "output_type": "execute_result",
          "data": {
            "text/html": [
              "<div>\n",
              "<style scoped>\n",
              "    .dataframe tbody tr th:only-of-type {\n",
              "        vertical-align: middle;\n",
              "    }\n",
              "\n",
              "    .dataframe tbody tr th {\n",
              "        vertical-align: top;\n",
              "    }\n",
              "\n",
              "    .dataframe thead th {\n",
              "        text-align: right;\n",
              "    }\n",
              "</style>\n",
              "<table border=\"1\" class=\"dataframe\">\n",
              "  <thead>\n",
              "    <tr style=\"text-align: right;\">\n",
              "      <th></th>\n",
              "      <th>Actual</th>\n",
              "      <th>Predicted</th>\n",
              "    </tr>\n",
              "  </thead>\n",
              "  <tbody>\n",
              "    <tr>\n",
              "      <th>0</th>\n",
              "      <td>37.340575</td>\n",
              "      <td>39.508440</td>\n",
              "    </tr>\n",
              "    <tr>\n",
              "      <th>1</th>\n",
              "      <td>47.342149</td>\n",
              "      <td>50.386152</td>\n",
              "    </tr>\n",
              "    <tr>\n",
              "      <th>2</th>\n",
              "      <td>61.341068</td>\n",
              "      <td>50.490539</td>\n",
              "    </tr>\n",
              "    <tr>\n",
              "      <th>3</th>\n",
              "      <td>23.341657</td>\n",
              "      <td>31.492899</td>\n",
              "    </tr>\n",
              "    <tr>\n",
              "      <th>4</th>\n",
              "      <td>31.341821</td>\n",
              "      <td>35.908097</td>\n",
              "    </tr>\n",
              "    <tr>\n",
              "      <th>...</th>\n",
              "      <td>...</td>\n",
              "      <td>...</td>\n",
              "    </tr>\n",
              "    <tr>\n",
              "      <th>199753</th>\n",
              "      <td>74.340650</td>\n",
              "      <td>39.345247</td>\n",
              "    </tr>\n",
              "    <tr>\n",
              "      <th>199754</th>\n",
              "      <td>29.340411</td>\n",
              "      <td>32.773114</td>\n",
              "    </tr>\n",
              "    <tr>\n",
              "      <th>199755</th>\n",
              "      <td>28.341075</td>\n",
              "      <td>43.024103</td>\n",
              "    </tr>\n",
              "    <tr>\n",
              "      <th>199756</th>\n",
              "      <td>32.341157</td>\n",
              "      <td>35.946771</td>\n",
              "    </tr>\n",
              "    <tr>\n",
              "      <th>199757</th>\n",
              "      <td>33.340493</td>\n",
              "      <td>37.610884</td>\n",
              "    </tr>\n",
              "  </tbody>\n",
              "</table>\n",
              "<p>199758 rows × 2 columns</p>\n",
              "</div>"
            ],
            "text/plain": [
              "           Actual  Predicted\n",
              "0       37.340575  39.508440\n",
              "1       47.342149  50.386152\n",
              "2       61.341068  50.490539\n",
              "3       23.341657  31.492899\n",
              "4       31.341821  35.908097\n",
              "...           ...        ...\n",
              "199753  74.340650  39.345247\n",
              "199754  29.340411  32.773114\n",
              "199755  28.341075  43.024103\n",
              "199756  32.341157  35.946771\n",
              "199757  33.340493  37.610884\n",
              "\n",
              "[199758 rows x 2 columns]"
            ]
          },
          "metadata": {
            "tags": []
          },
          "execution_count": 148
        }
      ]
    },
    {
      "cell_type": "markdown",
      "metadata": {
        "id": "8SCd4O22667a"
      },
      "source": [
        "Pretty much the same results with K-coss fold or just basic split "
      ]
    },
    {
      "cell_type": "markdown",
      "metadata": {
        "id": "_Ois1VZu6hBH"
      },
      "source": [
        "## Decision Tree"
      ]
    },
    {
      "cell_type": "code",
      "metadata": {
        "colab": {
          "base_uri": "https://localhost:8080/",
          "height": 470
        },
        "id": "mcWKVd_utR0r",
        "outputId": "28ca68ab-1fdc-4217-b391-5d6829506a05"
      },
      "source": [
        "\n",
        "### split data into predictors and response variables\n",
        "\n",
        "names = ['education_duration_years', 'job_duration_years', 'seniority']\n",
        "X = education_job_seniority[names].values\n",
        "Y = education_job_seniority[\"Age\"].values\n",
        "X_train, X_test, y_train, y_test = train_test_split(X, Y, test_size= 0.3, random_state=0)\n",
        "\n",
        "model = DecisionTreeRegressor()\n",
        "model.fit(X_train,y_train)\n",
        "y_pred = model.predict(X_test)\n",
        "print('Mean Absolute Error:', metrics.mean_absolute_error(y_test, y_pred))\n",
        "print('Mean Squared Error:', metrics.mean_squared_error(y_test, y_pred))\n",
        "print('Root Mean Squared Error:', np.sqrt(metrics.mean_squared_error(y_test, y_pred)))\n",
        "df = pd.DataFrame({'Actual': y_test, 'Predicted': y_pred})\n",
        "df"
      ],
      "execution_count": null,
      "outputs": [
        {
          "output_type": "stream",
          "text": [
            "Mean Absolute Error: 6.740961113841229\n",
            "Mean Squared Error: 111.7583952186732\n",
            "Root Mean Squared Error: 10.571584328693273\n"
          ],
          "name": "stdout"
        },
        {
          "output_type": "execute_result",
          "data": {
            "text/html": [
              "<div>\n",
              "<style scoped>\n",
              "    .dataframe tbody tr th:only-of-type {\n",
              "        vertical-align: middle;\n",
              "    }\n",
              "\n",
              "    .dataframe tbody tr th {\n",
              "        vertical-align: top;\n",
              "    }\n",
              "\n",
              "    .dataframe thead th {\n",
              "        text-align: right;\n",
              "    }\n",
              "</style>\n",
              "<table border=\"1\" class=\"dataframe\">\n",
              "  <thead>\n",
              "    <tr style=\"text-align: right;\">\n",
              "      <th></th>\n",
              "      <th>Actual</th>\n",
              "      <th>Predicted</th>\n",
              "    </tr>\n",
              "  </thead>\n",
              "  <tbody>\n",
              "    <tr>\n",
              "      <th>0</th>\n",
              "      <td>37.340575</td>\n",
              "      <td>37.340575</td>\n",
              "    </tr>\n",
              "    <tr>\n",
              "      <th>1</th>\n",
              "      <td>47.342149</td>\n",
              "      <td>63.342478</td>\n",
              "    </tr>\n",
              "    <tr>\n",
              "      <th>2</th>\n",
              "      <td>61.341068</td>\n",
              "      <td>61.341068</td>\n",
              "    </tr>\n",
              "    <tr>\n",
              "      <th>3</th>\n",
              "      <td>23.341657</td>\n",
              "      <td>47.342149</td>\n",
              "    </tr>\n",
              "    <tr>\n",
              "      <th>4</th>\n",
              "      <td>31.341821</td>\n",
              "      <td>28.341075</td>\n",
              "    </tr>\n",
              "    <tr>\n",
              "      <th>...</th>\n",
              "      <td>...</td>\n",
              "      <td>...</td>\n",
              "    </tr>\n",
              "    <tr>\n",
              "      <th>199753</th>\n",
              "      <td>74.340650</td>\n",
              "      <td>74.340650</td>\n",
              "    </tr>\n",
              "    <tr>\n",
              "      <th>199754</th>\n",
              "      <td>29.340411</td>\n",
              "      <td>27.341739</td>\n",
              "    </tr>\n",
              "    <tr>\n",
              "      <th>199755</th>\n",
              "      <td>28.341075</td>\n",
              "      <td>51.340863</td>\n",
              "    </tr>\n",
              "    <tr>\n",
              "      <th>199756</th>\n",
              "      <td>32.341157</td>\n",
              "      <td>32.341157</td>\n",
              "    </tr>\n",
              "    <tr>\n",
              "      <th>199757</th>\n",
              "      <td>33.340493</td>\n",
              "      <td>28.341075</td>\n",
              "    </tr>\n",
              "  </tbody>\n",
              "</table>\n",
              "<p>199758 rows × 2 columns</p>\n",
              "</div>"
            ],
            "text/plain": [
              "           Actual  Predicted\n",
              "0       37.340575  37.340575\n",
              "1       47.342149  63.342478\n",
              "2       61.341068  61.341068\n",
              "3       23.341657  47.342149\n",
              "4       31.341821  28.341075\n",
              "...           ...        ...\n",
              "199753  74.340650  74.340650\n",
              "199754  29.340411  27.341739\n",
              "199755  28.341075  51.340863\n",
              "199756  32.341157  32.341157\n",
              "199757  33.340493  28.341075\n",
              "\n",
              "[199758 rows x 2 columns]"
            ]
          },
          "metadata": {
            "tags": []
          },
          "execution_count": 149
        }
      ]
    },
    {
      "cell_type": "markdown",
      "metadata": {
        "id": "2-h-8is-9RTQ"
      },
      "source": [
        "## Ensamble learning\n"
      ]
    },
    {
      "cell_type": "code",
      "metadata": {
        "colab": {
          "base_uri": "https://localhost:8080/"
        },
        "id": "43FBmBrK2uHU",
        "outputId": "b4acad7e-ec60-4177-e664-5314affd6a5c"
      },
      "source": [
        "# Ensamble learning\n",
        "from sklearn.ensemble import RandomForestRegressor\n",
        "\n",
        "names = ['education_duration_years', 'job_duration_years', 'seniority']\n",
        "X = education_job_seniority[names].values\n",
        "Y = education_job_seniority[\"Age\"].values\n",
        "X_train, X_test, y_train, y_test = train_test_split(X, Y, test_size= 0.3, random_state=0)\n",
        "\n",
        "\n",
        "RF_model = RandomForestRegressor(n_estimators =100, max_depth =10, random_state=0)\n",
        "RF_model.fit(X_train,y_train)\n",
        "RF_predict =RF_model.predict(X_test)\n",
        "\n",
        "print('Mean Absolute Error:', metrics.mean_absolute_error(y_test, RF_predict))\n",
        "print('Mean Squared Error:', metrics.mean_squared_error(y_test, RF_predict))\n",
        "print('Root Mean Squared Error:', np.sqrt(metrics.mean_squared_error(y_test, RF_predict)))\n"
      ],
      "execution_count": null,
      "outputs": [
        {
          "output_type": "stream",
          "text": [
            "Mean Absolute Error: 6.996953260942311\n",
            "Mean Squared Error: 83.71414432216069\n",
            "Root Mean Squared Error: 9.149543394189717\n"
          ],
          "name": "stdout"
        }
      ]
    },
    {
      "cell_type": "code",
      "metadata": {
        "colab": {
          "base_uri": "https://localhost:8080/",
          "height": 419
        },
        "id": "QyjIaSGj8Sbl",
        "outputId": "2a68e290-31dd-42f1-8fc5-f88e6c0be48e"
      },
      "source": [
        "df = pd.DataFrame({'Actual': y_test, 'Predicted': RF_predict})\n",
        "df"
      ],
      "execution_count": null,
      "outputs": [
        {
          "output_type": "execute_result",
          "data": {
            "text/html": [
              "<div>\n",
              "<style scoped>\n",
              "    .dataframe tbody tr th:only-of-type {\n",
              "        vertical-align: middle;\n",
              "    }\n",
              "\n",
              "    .dataframe tbody tr th {\n",
              "        vertical-align: top;\n",
              "    }\n",
              "\n",
              "    .dataframe thead th {\n",
              "        text-align: right;\n",
              "    }\n",
              "</style>\n",
              "<table border=\"1\" class=\"dataframe\">\n",
              "  <thead>\n",
              "    <tr style=\"text-align: right;\">\n",
              "      <th></th>\n",
              "      <th>Actual</th>\n",
              "      <th>Predicted</th>\n",
              "    </tr>\n",
              "  </thead>\n",
              "  <tbody>\n",
              "    <tr>\n",
              "      <th>0</th>\n",
              "      <td>37.340575</td>\n",
              "      <td>38.852554</td>\n",
              "    </tr>\n",
              "    <tr>\n",
              "      <th>1</th>\n",
              "      <td>47.342149</td>\n",
              "      <td>57.269409</td>\n",
              "    </tr>\n",
              "    <tr>\n",
              "      <th>2</th>\n",
              "      <td>61.341068</td>\n",
              "      <td>50.817753</td>\n",
              "    </tr>\n",
              "    <tr>\n",
              "      <th>3</th>\n",
              "      <td>23.341657</td>\n",
              "      <td>28.951476</td>\n",
              "    </tr>\n",
              "    <tr>\n",
              "      <th>4</th>\n",
              "      <td>31.341821</td>\n",
              "      <td>35.516944</td>\n",
              "    </tr>\n",
              "    <tr>\n",
              "      <th>...</th>\n",
              "      <td>...</td>\n",
              "      <td>...</td>\n",
              "    </tr>\n",
              "    <tr>\n",
              "      <th>199753</th>\n",
              "      <td>74.340650</td>\n",
              "      <td>40.075982</td>\n",
              "    </tr>\n",
              "    <tr>\n",
              "      <th>199754</th>\n",
              "      <td>29.340411</td>\n",
              "      <td>33.243899</td>\n",
              "    </tr>\n",
              "    <tr>\n",
              "      <th>199755</th>\n",
              "      <td>28.341075</td>\n",
              "      <td>46.175636</td>\n",
              "    </tr>\n",
              "    <tr>\n",
              "      <th>199756</th>\n",
              "      <td>32.341157</td>\n",
              "      <td>33.498932</td>\n",
              "    </tr>\n",
              "    <tr>\n",
              "      <th>199757</th>\n",
              "      <td>33.340493</td>\n",
              "      <td>34.886890</td>\n",
              "    </tr>\n",
              "  </tbody>\n",
              "</table>\n",
              "<p>199758 rows × 2 columns</p>\n",
              "</div>"
            ],
            "text/plain": [
              "           Actual  Predicted\n",
              "0       37.340575  38.852554\n",
              "1       47.342149  57.269409\n",
              "2       61.341068  50.817753\n",
              "3       23.341657  28.951476\n",
              "4       31.341821  35.516944\n",
              "...           ...        ...\n",
              "199753  74.340650  40.075982\n",
              "199754  29.340411  33.243899\n",
              "199755  28.341075  46.175636\n",
              "199756  32.341157  33.498932\n",
              "199757  33.340493  34.886890\n",
              "\n",
              "[199758 rows x 2 columns]"
            ]
          },
          "metadata": {
            "tags": []
          },
          "execution_count": 151
        }
      ]
    },
    {
      "cell_type": "markdown",
      "metadata": {
        "id": "wxec34ip75v3"
      },
      "source": [
        "Ensamble techniques here using random forest works better in this case with minimum error so I would go with this for building the model.\n",
        " "
      ]
    },
    {
      "cell_type": "code",
      "metadata": {
        "id": "jlVuBXx274qc"
      },
      "source": [
        ""
      ],
      "execution_count": null,
      "outputs": []
    },
    {
      "cell_type": "markdown",
      "metadata": {
        "id": "q5M4KcV3krm7"
      },
      "source": [
        "# Evaluation and Results"
      ]
    },
    {
      "cell_type": "code",
      "metadata": {
        "colab": {
          "base_uri": "https://localhost:8080/",
          "height": 295
        },
        "id": "frFVxelT_iCF",
        "outputId": "2ce0cef9-f555-452c-8fbb-f92a9a310764"
      },
      "source": [
        "## Plot predicted vs true\n",
        "fig, ax = plt.subplots(nrows=1, ncols=2)\n",
        "from statsmodels.graphics.api import abline_plot\n",
        "ax[0].scatter(predicted, y_test, color=\"black\")\n",
        "abline_plot(intercept=0, slope=1, color=\"red\", ax=ax[0])\n",
        "ax[0].vlines(x=max_pred, ymin=max_true, ymax=max_true-max_error, color='red', linestyle='--', alpha=0.7, label=\"max error\")\n",
        "ax[0].grid(True)\n",
        "ax[0].set(xlabel=\"Predicted\", ylabel=\"True\", title=\"Predicted vs True\")\n",
        "ax[0].legend()\n",
        "    \n",
        "## Plot predicted vs residuals\n",
        "ax[1].scatter(predicted, residuals, color=\"red\")\n",
        "ax[1].vlines(x=max_pred, ymin=0, ymax=max_error, color='black', linestyle='--', alpha=0.7, label=\"max error\")\n",
        "ax[1].grid(True)\n",
        "ax[1].set(xlabel=\"Predicted\", ylabel=\"Residuals\", title=\"Predicted vs Residuals\")\n",
        "ax[1].hlines(y=0, xmin=np.min(predicted), xmax=np.max(predicted))\n",
        "ax[1].legend()\n",
        "plt.show()"
      ],
      "execution_count": null,
      "outputs": [
        {
          "output_type": "display_data",
          "data": {
            "image/png": "[encoded data removed]",
            "text/plain": [
              "<Figure size 432x288 with 2 Axes>"
            ]
          },
          "metadata": {
            "tags": [],
            "needs_background": "light"
          }
        }
      ]
    },
    {
      "cell_type": "code",
      "metadata": {
        "colab": {
          "base_uri": "https://localhost:8080/",
          "height": 335
        },
        "id": "iMs5bIkE_pkY",
        "outputId": "0fd2834b-f56d-48d6-9288-544760e31e7d"
      },
      "source": [
        "fig, ax = plt.subplots()\n",
        "sns.distplot(residuals, color=\"red\", hist=True, kde=True, kde_kws={\"shade\":True}, ax=ax)\n",
        "ax.grid(True)\n",
        "ax.set(yticks=[], yticklabels=[], title=\"Residuals distribution\")\n",
        "plt.show()\n"
      ],
      "execution_count": null,
      "outputs": [
        {
          "output_type": "stream",
          "text": [
            "/usr/local/lib/python3.7/dist-packages/seaborn/distributions.py:2557: FutureWarning: `distplot` is a deprecated function and will be removed in a future version. Please adapt your code to use either `displot` (a figure-level function with similar flexibility) or `histplot` (an axes-level function for histograms).\n",
            "  warnings.warn(msg, FutureWarning)\n"
          ],
          "name": "stderr"
        },
        {
          "output_type": "display_data",
          "data": {
            "image/png": "[encoded data removed]",
            "text/plain": [
              "<Figure size 432x288 with 1 Axes>"
            ]
          },
          "metadata": {
            "tags": [],
            "needs_background": "light"
          }
        }
      ]
    },
    {
      "cell_type": "markdown",
      "metadata": {
        "id": "NgSyOWRakwG-"
      },
      "source": [
        "# Pipeline for automation/streamline the process"
      ]
    },
    {
      "cell_type": "markdown",
      "metadata": {
        "id": "EcxcqnB17l3Y"
      },
      "source": [
        "Possible extension for creating the pipeline but I have not checked it or ran it."
      ]
    },
    {
      "cell_type": "code",
      "metadata": {
        "colab": {
          "base_uri": "https://localhost:8080/"
        },
        "id": "ezvQ8ApaMPwQ",
        "outputId": "b4dfe4eb-1324-47a0-e7c6-8498f618ae65"
      },
      "source": [
        "import sys\n",
        "import psycopg2\n",
        "from scipy import stats\n",
        "from psycopg2 import extensions"
      ],
      "execution_count": null,
      "outputs": [
        {
          "output_type": "stream",
          "text": [
            "/usr/local/lib/python3.7/dist-packages/psycopg2/__init__.py:144: UserWarning: The psycopg2 wheel package will be renamed from release 2.8; in order to keep installing from binary please use \"pip install psycopg2-binary\" instead. For details see: <http://initd.org/psycopg/docs/install.html#binary-install-from-pypi>.\n",
            "  \"\"\")\n"
          ],
          "name": "stderr"
        }
      ]
    },
    {
      "cell_type": "code",
      "metadata": {
        "id": "mEzsfbISMMku"
      },
      "source": [
        "#conn = psycopg2.connect(\n",
        "#    host='127.0.0.1', port='5432', database='postgres',\n",
        "#    user='postgres', password='password')\n",
        "#autocommit = extensions.ISOLATION_LEVEL_AUTOCOMMIT\n",
        "#conn.set_isolation_level(autocommit)\n",
        "#autocommit = True"
      ],
      "execution_count": null,
      "outputs": []
    },
    {
      "cell_type": "code",
      "metadata": {
        "id": "76yTpe-hMJ92"
      },
      "source": [
        "# create a new cursor\n",
        "#cur = conn.cursor()\n",
        "#sql = \"select * from S3 limit 50\"\n",
        "#cur.execute(sql)\n",
        "#result = cur.fetchall()\n",
        "#df = pd.DataFrame(result)\n",
        "#print(df.head())\n",
        "#conn.commit()"
      ],
      "execution_count": null,
      "outputs": []
    }
  ]
}